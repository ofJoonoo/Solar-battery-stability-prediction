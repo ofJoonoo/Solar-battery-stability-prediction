{
 "cells": [
  {
   "cell_type": "markdown",
   "id": "7ed290a4",
   "metadata": {},
   "source": [
    "# 패키지"
   ]
  },
  {
   "cell_type": "code",
   "execution_count": 1,
   "id": "0f0f2d8b",
   "metadata": {},
   "outputs": [],
   "source": [
    "# 데이터 핸들링\n",
    "import pandas as pd\n",
    "import numpy as np\n",
    "\n",
    "# 시각화\n",
    "import matplotlib.pyplot as plt\n",
    "import seaborn as sns\n",
    "\n",
    "# preprocessing\n",
    "from sklearn.model_selection import train_test_split\n",
    "from sklearn.preprocessing import StandardScaler\n",
    "from sklearn.feature_selection import mutual_info_regression\n",
    "from sklearn.preprocessing import LabelEncoder\n",
    "\n",
    "# sampling\n",
    "from sklearn.utils import resample\n",
    "from imblearn.over_sampling import SMOTE, BorderlineSMOTE, SVMSMOTE, ADASYN\n",
    "\n",
    "# modeling\n",
    "from sklearn.model_selection import GridSearchCV\n",
    "from sklearn.linear_model import LogisticRegression\n",
    "from lightgbm import LGBMClassifier, LGBMRegressor\n",
    "from sklearn.utils import all_estimators\n",
    "\n",
    "# performance metrics\n",
    "from sklearn.metrics import mean_squared_error\n",
    "from sklearn.metrics import f1_score, accuracy_score, precision_score, recall_score, average_precision_score\n",
    "from sklearn.metrics import roc_auc_score, roc_curve, precision_recall_curve, confusion_matrix\n",
    "from sklearn.metrics import classification_report, precision_recall_fscore_support\n",
    "from sklearn.inspection import permutation_importance\n",
    "pd.set_option('mode.chained_assignment',  None)"
   ]
  },
  {
   "cell_type": "code",
   "execution_count": 2,
   "id": "3e6897e8",
   "metadata": {},
   "outputs": [],
   "source": [
    "import warnings\n",
    "warnings.filterwarnings('ignore')"
   ]
  },
  {
   "cell_type": "code",
   "execution_count": 3,
   "id": "a0a880f0",
   "metadata": {
    "scrolled": true
   },
   "outputs": [
    {
     "data": {
      "text/plain": [
       "'C:\\\\Users\\\\asahi\\\\OneDrive\\\\바탕 화면\\\\대학원\\\\기계학습특론\\\\기말과제\\\\종합'"
      ]
     },
     "execution_count": 3,
     "metadata": {},
     "output_type": "execute_result"
    }
   ],
   "source": [
    "import os\n",
    "os.getcwd()"
   ]
  },
  {
   "cell_type": "code",
   "execution_count": 4,
   "id": "cec2ed7e",
   "metadata": {},
   "outputs": [],
   "source": [
    "random_state = 42"
   ]
  },
  {
   "cell_type": "code",
   "execution_count": 5,
   "id": "06146a15",
   "metadata": {},
   "outputs": [],
   "source": [
    "# row display condition\n",
    "pd.set_option('display.max_rows', 500)"
   ]
  },
  {
   "cell_type": "markdown",
   "id": "6db95c2a",
   "metadata": {},
   "source": [
    "# 1. Data Read"
   ]
  },
  {
   "cell_type": "code",
   "execution_count": 6,
   "id": "1e495337",
   "metadata": {},
   "outputs": [
    {
     "name": "stdout",
     "output_type": "stream",
     "text": [
      "(42443, 410)\n"
     ]
    }
   ],
   "source": [
    "df = pd.read_csv(\"./Perovskite_database_content_all_data.csv\")\n",
    "df.head()\n",
    "print(df.shape)"
   ]
  },
  {
   "cell_type": "code",
   "execution_count": 7,
   "id": "b4e25e9f",
   "metadata": {},
   "outputs": [],
   "source": [
    "target = df['Stability_PCE_T80']\n",
    "target_notnull = df[~df['Stability_PCE_T80'].isnull()]['Stability_PCE_T80']"
   ]
  },
  {
   "cell_type": "markdown",
   "id": "eeb5c9fb",
   "metadata": {},
   "source": [
    "### basic preprocessing"
   ]
  },
  {
   "cell_type": "code",
   "execution_count": 8,
   "id": "dd5626f4",
   "metadata": {},
   "outputs": [],
   "source": [
    "def remove_single_value_col(df):\n",
    "    single_col = []\n",
    "    for i in df.columns:\n",
    "        if (df[i].nunique() == 1)|(df[i].nunique() == 0):\n",
    "            single_col.append(i)\n",
    "    df_new = df.drop(columns=single_col, axis=1)\n",
    "    return df_new"
   ]
  },
  {
   "cell_type": "code",
   "execution_count": 9,
   "id": "ee1a35e5",
   "metadata": {},
   "outputs": [],
   "source": [
    "# 전반적으로 null이 압도적이어도 target값이 존재할때 함께 존재하는 비율이 높으면 제거하지 않기 위함\n",
    "def remove_num_n_col_with_target(df,n):\n",
    "    del_col = []\n",
    "    df_target_notnull = df[~df['Stability_PCE_T80'].isnull()]\n",
    "    for col in df.columns:\n",
    "        if df_target_notnull[col].isnull().sum()/len(df_target_notnull)*100 > int(n):\n",
    "            del_col.append(col)\n",
    "    df_new = df.drop(columns = del_col, axis=1)\n",
    "    return df_new"
   ]
  },
  {
   "cell_type": "code",
   "execution_count": 10,
   "id": "d19a6bb4",
   "metadata": {},
   "outputs": [
    {
     "name": "stdout",
     "output_type": "stream",
     "text": [
      "단일값 제거 전 : (42443, 410)\n",
      "단일값 제거 후 : (42443, 319)\n"
     ]
    }
   ],
   "source": [
    "df_single_drop = remove_single_value_col(df)\n",
    "print('단일값 제거 전 :', df.shape)\n",
    "print('단일값 제거 후 :', df_single_drop.shape)"
   ]
  },
  {
   "cell_type": "markdown",
   "id": "f848d762",
   "metadata": {},
   "source": [
    "## 1.1 Object type"
   ]
  },
  {
   "cell_type": "code",
   "execution_count": 11,
   "id": "d73acf70",
   "metadata": {},
   "outputs": [],
   "source": [
    "bool_col = [] \n",
    "num_col = []  # int+float\n",
    "O_col = []\n",
    "for i in df_single_drop.columns:\n",
    "    if df_single_drop[i].dtype == 'bool':\n",
    "        bool_col.append(i)\n",
    "    elif df_single_drop[i].dtype == 'int64':\n",
    "        num_col.append(i)\n",
    "    elif df_single_drop[i].dtype == 'float64':\n",
    "        num_col.append(i)\n",
    "    elif df_single_drop[i].dtype == 'O':\n",
    "        O_col.append(i)\n",
    "df_bool = df_single_drop[bool_col]\n",
    "df_num = df_single_drop[num_col]\n",
    "df_O = df_single_drop[O_col]"
   ]
  },
  {
   "cell_type": "code",
   "execution_count": 12,
   "id": "a47311d7",
   "metadata": {},
   "outputs": [
    {
     "data": {
      "text/plain": [
       "(42443, 36)"
      ]
     },
     "execution_count": 12,
     "metadata": {},
     "output_type": "execute_result"
    }
   ],
   "source": [
    "df_bool.shape"
   ]
  },
  {
   "cell_type": "code",
   "execution_count": 13,
   "id": "2da43e59",
   "metadata": {},
   "outputs": [
    {
     "data": {
      "text/plain": [
       "(42443, 84)"
      ]
     },
     "execution_count": 13,
     "metadata": {},
     "output_type": "execute_result"
    }
   ],
   "source": [
    "df_num.shape"
   ]
  },
  {
   "cell_type": "code",
   "execution_count": 14,
   "id": "587eea3d",
   "metadata": {},
   "outputs": [
    {
     "data": {
      "text/plain": [
       "(42443, 199)"
      ]
     },
     "execution_count": 14,
     "metadata": {},
     "output_type": "execute_result"
    }
   ],
   "source": [
    "df_O.shape"
   ]
  },
  {
   "cell_type": "markdown",
   "id": "5f16e715",
   "metadata": {},
   "source": [
    "###  unknown 이 80% 이상인 columns 제거"
   ]
  },
  {
   "cell_type": "code",
   "execution_count": 15,
   "id": "16a7d9c0",
   "metadata": {},
   "outputs": [],
   "source": [
    "unknown_col = ['Substrate_deposition_procedure'\n",
    ",'ETL_additives_compounds'\n",
    ",'ETL_deposition_aggregation_state_of_reactants'\n",
    ",'ETL_deposition_synthesis_atmosphere'\n",
    ",'ETL_deposition_solvents'\n",
    ",'ETL_deposition_solvents_supplier'\n",
    ",'ETL_deposition_solvents_purity'\n",
    ",'ETL_deposition_reaction_solutions_compounds_supplier'\n",
    ",'ETL_deposition_reaction_solutions_compounds_purity'\n",
    ",'ETL_deposition_reaction_solutions_volumes'\n",
    ",'ETL_deposition_reaction_solutions_age'\n",
    ",'ETL_deposition_reaction_solutions_temperature'\n",
    ",'ETL_deposition_substrate_temperature'\n",
    ",'ETL_deposition_thermal_annealing_temperature'\n",
    ",'ETL_deposition_thermal_annealing_time'\n",
    ",'ETL_deposition_thermal_annealing_atmosphere'\n",
    ",'ETL_storage_atmosphere'\n",
    ",'Perovskite_deposition_solvents_supplier'\n",
    ",'Perovskite_deposition_solvents_purity'\n",
    ",'Perovskite_deposition_reaction_solutions_compounds_supplier'\n",
    ",'Perovskite_deposition_reaction_solutions_compounds_purity'\n",
    ",'Perovskite_deposition_reaction_solutions_volumes'\n",
    ",'Perovskite_deposition_reaction_solutions_age'\n",
    ",'Perovskite_deposition_reaction_solutions_temperature'\n",
    ",'Perovskite_deposition_substrate_temperature'\n",
    ",'Perovskite_deposition_quenching_media_volume'\n",
    ",'Perovskite_deposition_thermal_annealing_atmosphere'\n",
    ",'Perovskite_deposition_solvent_annealing_solvent_atmosphere'\n",
    ",'Perovskite_deposition_solvent_annealing_time'\n",
    ",'Perovskite_deposition_solvent_annealing_temperature'\n",
    ",'Perovskite_storage_time_until_next_deposition_step'\n",
    ",'Perovskite_storage_atmosphere'\n",
    ",'HTL_deposition_aggregation_state_of_reactants'\n",
    ",'HTL_deposition_synthesis_atmosphere'\n",
    ",'HTL_deposition_solvents'\n",
    ",'HTL_deposition_solvents_supplier'\n",
    ",'HTL_deposition_solvents_purity'\n",
    ",'HTL_deposition_reaction_solutions_compounds_supplier'\n",
    ",'HTL_deposition_reaction_solutions_compounds_purity'\n",
    ",'HTL_deposition_reaction_solutions_volumes'\n",
    ",'HTL_deposition_reaction_solutions_age'\n",
    ",'HTL_deposition_reaction_solutions_temperature'\n",
    ",'HTL_deposition_substrate_temperature'\n",
    ",'HTL_deposition_thermal_annealing_temperature'\n",
    ",'HTL_deposition_thermal_annealing_time'\n",
    ",'HTL_deposition_thermal_annealing_atmosphere'\n",
    ",'HTL_storage_time_until_next_deposition_step'\n",
    ",'HTL_storage_atmosphere'\n",
    ",'Backcontact_deposition_aggregation_state_of_reactants'\n",
    ",'Backcontact_deposition_synthesis_atmosphere'\n",
    ",'Backcontact_deposition_solvents'\n",
    ",'Backcontact_deposition_solvents_supplier'\n",
    ",'Backcontact_deposition_reaction_solutions_compounds_supplier'\n",
    ",'Backcontact_deposition_reaction_solutions_compounds_purity'\n",
    ",'Backcontact_deposition_reaction_solutions_volumes'\n",
    ",'Backcontact_deposition_reaction_solutions_temperature'\n",
    ",'Backcontact_deposition_substrate_temperature'\n",
    ",'Backcontact_deposition_thermal_annealing_temperature'\n",
    ",'Backcontact_deposition_thermal_annealing_time'\n",
    ",'Backcontact_deposition_thermal_annealing_atmosphere'\n",
    ",'Backcontact_storage_time_until_next_deposition_step'\n",
    ",'Backcontact_storage_atmosphere'\n",
    ",'Add_lay_front_stack_sequence'\n",
    ",'Add_lay_front_deposition_procedure'\n",
    ",'Add_lay_back_stack_sequence'\n",
    ",'Add_lay_back_deposition_procedure'\n",
    ",'Encapsulation_stack_sequence'\n",
    ",'Encapsulation_edge_sealing_materials'\n",
    ",'Encapsulation_atmosphere_for_encapsulation'\n",
    ",'JV_storage_age_of_cell'\n",
    ",'JV_storage_atmosphere'\n",
    ",'JV_light_wavelength_range'\n",
    ",'Stability_light_wavelength_range'\n",
    ",'Stability_light_cycling_times'\n",
    ",'Stability_potential_bias_range'\n",
    ",'Stability_temperature_range'\n",
    ",'Stability_temperature_cycling_times'\n",
    ",'Stability_atmosphere'\n",
    ",'Stability_relative_humidity_range'\n",
    ",'Stability_periodic_JV_measurements_time_between_jv'\n",
    ",'Outdoor_time_end'\n",
    ",'Outdoor_temperature_range']"
   ]
  },
  {
   "cell_type": "code",
   "execution_count": 16,
   "id": "74a33d6b",
   "metadata": {},
   "outputs": [
    {
     "name": "stdout",
     "output_type": "stream",
     "text": [
      "unknown 제거 컬럼 개수 : 82\n"
     ]
    }
   ],
   "source": [
    "df_O_unknown_drop = df_O.drop(columns=unknown_col, axis=1)\n",
    "print(\"unknown 제거 컬럼 개수 :\", df_O.shape[1] - df_O_unknown_drop.shape[1])"
   ]
  },
  {
   "cell_type": "markdown",
   "id": "26b79c6a",
   "metadata": {},
   "source": [
    "### remove Ref col"
   ]
  },
  {
   "cell_type": "code",
   "execution_count": 17,
   "id": "a76781a1",
   "metadata": {},
   "outputs": [],
   "source": [
    "Ref_col = ['Ref_name_of_person_entering_the_data'\n",
    ",'Ref_DOI_number'\n",
    ",'Ref_lead_author'\n",
    ",'Ref_publication_date'\n",
    ",'Ref_journal'\n",
    ",'Ref_original_filename_data_upload'\n",
    ",'Ref_internal_sample_id']"
   ]
  },
  {
   "cell_type": "code",
   "execution_count": 18,
   "id": "592528cd",
   "metadata": {},
   "outputs": [
    {
     "data": {
      "text/plain": [
       "(42443, 110)"
      ]
     },
     "execution_count": 18,
     "metadata": {},
     "output_type": "execute_result"
    }
   ],
   "source": [
    "df_O_Ref_drop = df_O_unknown_drop.drop(columns=Ref_col, axis=1)\n",
    "df_O_Ref_drop.shape"
   ]
  },
  {
   "cell_type": "markdown",
   "id": "0dee776d",
   "metadata": {},
   "source": [
    "### remove single value col"
   ]
  },
  {
   "cell_type": "code",
   "execution_count": 19,
   "id": "cda70a8a",
   "metadata": {},
   "outputs": [],
   "source": [
    "single_col = ['JV_light_spectra'\n",
    ",'JV_default_Voc_scan_direction'\n",
    ",'JV_default_Jsc_scan_direction'\n",
    ",'JV_default_FF_scan_direction']"
   ]
  },
  {
   "cell_type": "code",
   "execution_count": 20,
   "id": "3e4a5797",
   "metadata": {},
   "outputs": [
    {
     "data": {
      "text/plain": [
       "(42443, 106)"
      ]
     },
     "execution_count": 20,
     "metadata": {},
     "output_type": "execute_result"
    }
   ],
   "source": [
    "df_O_sigle_drop = df_O_Ref_drop.drop(columns=single_col, axis=1)\n",
    "df_O_sigle_drop.shape"
   ]
  },
  {
   "cell_type": "markdown",
   "id": "9eadde3f",
   "metadata": {},
   "source": [
    "### remove missing value col"
   ]
  },
  {
   "cell_type": "code",
   "execution_count": 21,
   "id": "3d3a15f3",
   "metadata": {},
   "outputs": [],
   "source": [
    "missing_col = ['Perovskite_additives_concentrations'\n",
    ",'Perovskite_deposition_solvents_mixing_ratios'\n",
    ",'Perovskite_deposition_thermal_annealing_temperature']"
   ]
  },
  {
   "cell_type": "code",
   "execution_count": 22,
   "id": "7535c5b6",
   "metadata": {},
   "outputs": [
    {
     "data": {
      "text/plain": [
       "(42443, 103)"
      ]
     },
     "execution_count": 22,
     "metadata": {},
     "output_type": "execute_result"
    }
   ],
   "source": [
    "df_O_missing_drop = df_O_sigle_drop.drop(columns=missing_col, axis=1)\n",
    "df_O_missing_drop.shape"
   ]
  },
  {
   "cell_type": "code",
   "execution_count": 23,
   "id": "6e458a25",
   "metadata": {},
   "outputs": [],
   "source": [
    "df_O_with_target = pd.concat([df_O_missing_drop, target], axis=1)"
   ]
  },
  {
   "cell_type": "code",
   "execution_count": 24,
   "id": "cf81ebbb",
   "metadata": {},
   "outputs": [
    {
     "name": "stdout",
     "output_type": "stream",
     "text": [
      "제거 전 : (42443, 104)\n",
      "제거 후 : (42443, 39)\n"
     ]
    }
   ],
   "source": [
    "df_O_notnull = remove_num_n_col_with_target(df_O_with_target, 80)\n",
    "print('제거 전 :', df_O_with_target.shape)\n",
    "print('제거 후 :', df_O_notnull.shape)"
   ]
  },
  {
   "cell_type": "code",
   "execution_count": 25,
   "id": "4c88db20",
   "metadata": {},
   "outputs": [
    {
     "data": {
      "text/plain": [
       "(1834, 39)"
      ]
     },
     "execution_count": 25,
     "metadata": {},
     "output_type": "execute_result"
    }
   ],
   "source": [
    "df_O_final = df_O_notnull[~df_O_notnull['Stability_PCE_T80'].isnull()]\n",
    "df_O_final.shape"
   ]
  },
  {
   "cell_type": "code",
   "execution_count": 26,
   "id": "31a35275",
   "metadata": {
    "scrolled": true
   },
   "outputs": [
    {
     "name": "stdout",
     "output_type": "stream",
     "text": [
      "Cell_stack_sequence\n",
      "Cell_architecture\n",
      "Substrate_stack_sequence\n",
      "ETL_stack_sequence\n",
      "ETL_thickness\n",
      "ETL_deposition_procedure\n",
      "Perovskite_dimension_list_of_layers\n",
      "Perovskite_composition_a_ions\n",
      "Perovskite_composition_a_ions_coefficients\n",
      "Perovskite_composition_b_ions\n",
      "Perovskite_composition_b_ions_coefficients\n",
      "Perovskite_composition_c_ions\n",
      "Perovskite_composition_c_ions_coefficients\n",
      "Perovskite_composition_short_form\n",
      "Perovskite_composition_long_form\n",
      "Perovskite_additives_compounds\n",
      "Perovskite_thickness\n",
      "Perovskite_band_gap\n",
      "Perovskite_band_gap_estimation_basis\n",
      "Perovskite_pl_max\n",
      "Perovskite_deposition_procedure\n",
      "Perovskite_deposition_aggregation_state_of_reactants\n",
      "Perovskite_deposition_synthesis_atmosphere\n",
      "Perovskite_deposition_solvents\n",
      "Perovskite_deposition_quenching_media\n",
      "Perovskite_deposition_thermal_annealing_time\n",
      "HTL_stack_sequence\n",
      "HTL_thickness_list\n",
      "HTL_additives_compounds\n",
      "HTL_deposition_procedure\n",
      "Backcontact_stack_sequence\n",
      "Backcontact_thickness_list\n",
      "Backcontact_deposition_procedure\n",
      "JV_test_atmosphere\n",
      "JV_default_PCE_scan_direction\n",
      "Stability_protocol\n",
      "Stability_light_source_type\n",
      "Stability_potential_bias_load_condition\n",
      "Stability_PCE_T80\n"
     ]
    }
   ],
   "source": [
    "for i in df_O_final.columns:\n",
    "    print(i)"
   ]
  },
  {
   "cell_type": "markdown",
   "id": "7397bfc8",
   "metadata": {},
   "source": [
    "## 1.2 Bool type"
   ]
  },
  {
   "cell_type": "code",
   "execution_count": 27,
   "id": "294cbf9f",
   "metadata": {},
   "outputs": [
    {
     "data": {
      "text/plain": [
       "Ref_data_entered_by_author                                 0\n",
       "Ref_part_of_initial_dataset                                0\n",
       "Cell_flexible                                              0\n",
       "Cell_semitransparent                                       0\n",
       "Module                                                     0\n",
       "Module_JV_data_recalculated_per_cell                       0\n",
       "Perovskite_single_crystal                                  0\n",
       "Perovskite_dimension_0D                                    0\n",
       "Perovskite_dimension_2D                                    0\n",
       "Perovskite_dimension_2D3D_mixture                          0\n",
       "Perovskite_dimension_3D                                    0\n",
       "Perovskite_dimension_3D_with_2D_capping_layer              0\n",
       "Perovskite_composition_perovskite_ABC3_structure           0\n",
       "Perovskite_composition_perovskite_inspired_structure       0\n",
       "Perovskite_composition_inorganic                           0\n",
       "Perovskite_composition_leadfree                            0\n",
       "Perovskite_band_gap_graded                                 0\n",
       "Perovskite_deposition_quenching_induced_crystallisation    0\n",
       "Perovskite_deposition_solvent_annealing                    0\n",
       "Add_lay_front                                              0\n",
       "Add_lay_back                                               0\n",
       "Encapsulation                                              0\n",
       "JV_measured                                                0\n",
       "JV_certified_values                                        0\n",
       "JV_light_masked_cell                                       0\n",
       "Stabilised_performance_measured                            0\n",
       "EQE_measured                                               0\n",
       "Stability_measured                                         0\n",
       "Stability_light_UV_filter                                  0\n",
       "Stability_periodic_JV_measurements                         0\n",
       "Stability_PCE_burn_in_observed                             0\n",
       "Outdoor_tested                                             0\n",
       "Outdoor_periodic_JV_measurements                           0\n",
       "Outdoor_PCE_burn_in_observed                               0\n",
       "Outdoor_detaild_weather_data_available                     0\n",
       "Outdoor_irradiance_measured                                0\n",
       "dtype: int64"
      ]
     },
     "execution_count": 27,
     "metadata": {},
     "output_type": "execute_result"
    }
   ],
   "source": [
    "df_bool.isnull().sum()"
   ]
  },
  {
   "cell_type": "code",
   "execution_count": 28,
   "id": "42860c5a",
   "metadata": {},
   "outputs": [
    {
     "data": {
      "text/plain": [
       "(1834, 37)"
      ]
     },
     "execution_count": 28,
     "metadata": {},
     "output_type": "execute_result"
    }
   ],
   "source": [
    "df_bool_with_target = pd.concat([df_bool, target], axis=1)\n",
    "df_bool_with_target_notnull = df_bool_with_target[~df_bool_with_target.Stability_PCE_T80.isnull()]\n",
    "df_bool_with_target_notnull.shape"
   ]
  },
  {
   "cell_type": "code",
   "execution_count": 29,
   "id": "86ba033c",
   "metadata": {},
   "outputs": [],
   "source": [
    "# bool data 중 n% 이상 T/F 일 경우 drop\n",
    "def remove_imbalanced_bool_col(df,n):\n",
    "    del_col = []\n",
    "    df_target_notnull = df[~df['Stability_PCE_T80'].isnull()]\n",
    "    for col in df.columns:\n",
    "        if len(df_target_notnull[col].value_counts())==1:\n",
    "            del_col.append(col)\n",
    "        else:\n",
    "            if df_target_notnull[col].value_counts(normalize=True)[0]*100 > int(n):\n",
    "                del_col.append(col)\n",
    "            elif df_target_notnull[col].value_counts(normalize=True)[1]*100 > int(n):\n",
    "                del_col.append(col)\n",
    "    df_new = df.drop(columns = del_col, axis=1)\n",
    "    return df_new"
   ]
  },
  {
   "cell_type": "code",
   "execution_count": 30,
   "id": "9e2d7c01",
   "metadata": {},
   "outputs": [
    {
     "name": "stdout",
     "output_type": "stream",
     "text": [
      "제거 전 : (1834, 37)\n",
      "제거 후 : (1834, 9)\n"
     ]
    }
   ],
   "source": [
    "df_bool_final = remove_imbalanced_bool_col(df_bool_with_target_notnull, 95)\n",
    "print('제거 전 :', df_bool_with_target_notnull.shape)\n",
    "print('제거 후 :', df_bool_final.shape)"
   ]
  },
  {
   "cell_type": "code",
   "execution_count": 31,
   "id": "a5513346",
   "metadata": {},
   "outputs": [
    {
     "data": {
      "text/html": [
       "<div>\n",
       "<style scoped>\n",
       "    .dataframe tbody tr th:only-of-type {\n",
       "        vertical-align: middle;\n",
       "    }\n",
       "\n",
       "    .dataframe tbody tr th {\n",
       "        vertical-align: top;\n",
       "    }\n",
       "\n",
       "    .dataframe thead th {\n",
       "        text-align: right;\n",
       "    }\n",
       "</style>\n",
       "<table border=\"1\" class=\"dataframe\">\n",
       "  <thead>\n",
       "    <tr style=\"text-align: right;\">\n",
       "      <th></th>\n",
       "      <th>Perovskite_composition_inorganic</th>\n",
       "      <th>Perovskite_deposition_quenching_induced_crystallisation</th>\n",
       "      <th>Encapsulation</th>\n",
       "      <th>JV_measured</th>\n",
       "      <th>Stabilised_performance_measured</th>\n",
       "      <th>EQE_measured</th>\n",
       "      <th>Stability_periodic_JV_measurements</th>\n",
       "      <th>Stability_PCE_burn_in_observed</th>\n",
       "      <th>Stability_PCE_T80</th>\n",
       "    </tr>\n",
       "  </thead>\n",
       "  <tbody>\n",
       "    <tr>\n",
       "      <th>25</th>\n",
       "      <td>False</td>\n",
       "      <td>True</td>\n",
       "      <td>False</td>\n",
       "      <td>True</td>\n",
       "      <td>False</td>\n",
       "      <td>True</td>\n",
       "      <td>False</td>\n",
       "      <td>False</td>\n",
       "      <td>220.0</td>\n",
       "    </tr>\n",
       "    <tr>\n",
       "      <th>26</th>\n",
       "      <td>False</td>\n",
       "      <td>True</td>\n",
       "      <td>False</td>\n",
       "      <td>True</td>\n",
       "      <td>False</td>\n",
       "      <td>True</td>\n",
       "      <td>False</td>\n",
       "      <td>False</td>\n",
       "      <td>350.0</td>\n",
       "    </tr>\n",
       "    <tr>\n",
       "      <th>27</th>\n",
       "      <td>False</td>\n",
       "      <td>True</td>\n",
       "      <td>False</td>\n",
       "      <td>True</td>\n",
       "      <td>False</td>\n",
       "      <td>True</td>\n",
       "      <td>False</td>\n",
       "      <td>False</td>\n",
       "      <td>200.0</td>\n",
       "    </tr>\n",
       "    <tr>\n",
       "      <th>45</th>\n",
       "      <td>False</td>\n",
       "      <td>True</td>\n",
       "      <td>False</td>\n",
       "      <td>True</td>\n",
       "      <td>False</td>\n",
       "      <td>False</td>\n",
       "      <td>False</td>\n",
       "      <td>False</td>\n",
       "      <td>150.0</td>\n",
       "    </tr>\n",
       "    <tr>\n",
       "      <th>59</th>\n",
       "      <td>False</td>\n",
       "      <td>True</td>\n",
       "      <td>False</td>\n",
       "      <td>True</td>\n",
       "      <td>False</td>\n",
       "      <td>False</td>\n",
       "      <td>False</td>\n",
       "      <td>False</td>\n",
       "      <td>450.0</td>\n",
       "    </tr>\n",
       "    <tr>\n",
       "      <th>...</th>\n",
       "      <td>...</td>\n",
       "      <td>...</td>\n",
       "      <td>...</td>\n",
       "      <td>...</td>\n",
       "      <td>...</td>\n",
       "      <td>...</td>\n",
       "      <td>...</td>\n",
       "      <td>...</td>\n",
       "      <td>...</td>\n",
       "    </tr>\n",
       "    <tr>\n",
       "      <th>42321</th>\n",
       "      <td>False</td>\n",
       "      <td>True</td>\n",
       "      <td>False</td>\n",
       "      <td>True</td>\n",
       "      <td>False</td>\n",
       "      <td>True</td>\n",
       "      <td>False</td>\n",
       "      <td>False</td>\n",
       "      <td>500.0</td>\n",
       "    </tr>\n",
       "    <tr>\n",
       "      <th>42322</th>\n",
       "      <td>False</td>\n",
       "      <td>True</td>\n",
       "      <td>False</td>\n",
       "      <td>True</td>\n",
       "      <td>False</td>\n",
       "      <td>True</td>\n",
       "      <td>False</td>\n",
       "      <td>False</td>\n",
       "      <td>500.0</td>\n",
       "    </tr>\n",
       "    <tr>\n",
       "      <th>42392</th>\n",
       "      <td>False</td>\n",
       "      <td>True</td>\n",
       "      <td>False</td>\n",
       "      <td>True</td>\n",
       "      <td>False</td>\n",
       "      <td>False</td>\n",
       "      <td>False</td>\n",
       "      <td>False</td>\n",
       "      <td>72.0</td>\n",
       "    </tr>\n",
       "    <tr>\n",
       "      <th>42425</th>\n",
       "      <td>False</td>\n",
       "      <td>False</td>\n",
       "      <td>False</td>\n",
       "      <td>True</td>\n",
       "      <td>False</td>\n",
       "      <td>False</td>\n",
       "      <td>False</td>\n",
       "      <td>False</td>\n",
       "      <td>40.0</td>\n",
       "    </tr>\n",
       "    <tr>\n",
       "      <th>42436</th>\n",
       "      <td>False</td>\n",
       "      <td>True</td>\n",
       "      <td>False</td>\n",
       "      <td>True</td>\n",
       "      <td>False</td>\n",
       "      <td>True</td>\n",
       "      <td>False</td>\n",
       "      <td>True</td>\n",
       "      <td>20.0</td>\n",
       "    </tr>\n",
       "  </tbody>\n",
       "</table>\n",
       "<p>1834 rows × 9 columns</p>\n",
       "</div>"
      ],
      "text/plain": [
       "       Perovskite_composition_inorganic  \\\n",
       "25                                False   \n",
       "26                                False   \n",
       "27                                False   \n",
       "45                                False   \n",
       "59                                False   \n",
       "...                                 ...   \n",
       "42321                             False   \n",
       "42322                             False   \n",
       "42392                             False   \n",
       "42425                             False   \n",
       "42436                             False   \n",
       "\n",
       "       Perovskite_deposition_quenching_induced_crystallisation  Encapsulation  \\\n",
       "25                                                  True                False   \n",
       "26                                                  True                False   \n",
       "27                                                  True                False   \n",
       "45                                                  True                False   \n",
       "59                                                  True                False   \n",
       "...                                                  ...                  ...   \n",
       "42321                                               True                False   \n",
       "42322                                               True                False   \n",
       "42392                                               True                False   \n",
       "42425                                              False                False   \n",
       "42436                                               True                False   \n",
       "\n",
       "       JV_measured  Stabilised_performance_measured  EQE_measured  \\\n",
       "25            True                            False          True   \n",
       "26            True                            False          True   \n",
       "27            True                            False          True   \n",
       "45            True                            False         False   \n",
       "59            True                            False         False   \n",
       "...            ...                              ...           ...   \n",
       "42321         True                            False          True   \n",
       "42322         True                            False          True   \n",
       "42392         True                            False         False   \n",
       "42425         True                            False         False   \n",
       "42436         True                            False          True   \n",
       "\n",
       "       Stability_periodic_JV_measurements  Stability_PCE_burn_in_observed  \\\n",
       "25                                  False                           False   \n",
       "26                                  False                           False   \n",
       "27                                  False                           False   \n",
       "45                                  False                           False   \n",
       "59                                  False                           False   \n",
       "...                                   ...                             ...   \n",
       "42321                               False                           False   \n",
       "42322                               False                           False   \n",
       "42392                               False                           False   \n",
       "42425                               False                           False   \n",
       "42436                               False                            True   \n",
       "\n",
       "       Stability_PCE_T80  \n",
       "25                 220.0  \n",
       "26                 350.0  \n",
       "27                 200.0  \n",
       "45                 150.0  \n",
       "59                 450.0  \n",
       "...                  ...  \n",
       "42321              500.0  \n",
       "42322              500.0  \n",
       "42392               72.0  \n",
       "42425               40.0  \n",
       "42436               20.0  \n",
       "\n",
       "[1834 rows x 9 columns]"
      ]
     },
     "execution_count": 31,
     "metadata": {},
     "output_type": "execute_result"
    }
   ],
   "source": [
    "df_bool_final"
   ]
  },
  {
   "cell_type": "code",
   "execution_count": 32,
   "id": "b31e2c1f",
   "metadata": {},
   "outputs": [
    {
     "data": {
      "text/plain": [
       "(1834, 39)"
      ]
     },
     "execution_count": 32,
     "metadata": {},
     "output_type": "execute_result"
    }
   ],
   "source": [
    "df_O_final.shape"
   ]
  },
  {
   "cell_type": "code",
   "execution_count": 33,
   "id": "809c1a1f",
   "metadata": {
    "scrolled": true
   },
   "outputs": [
    {
     "name": "stdout",
     "output_type": "stream",
     "text": [
      "(1834, 47)\n"
     ]
    },
    {
     "data": {
      "text/html": [
       "<div>\n",
       "<style scoped>\n",
       "    .dataframe tbody tr th:only-of-type {\n",
       "        vertical-align: middle;\n",
       "    }\n",
       "\n",
       "    .dataframe tbody tr th {\n",
       "        vertical-align: top;\n",
       "    }\n",
       "\n",
       "    .dataframe thead th {\n",
       "        text-align: right;\n",
       "    }\n",
       "</style>\n",
       "<table border=\"1\" class=\"dataframe\">\n",
       "  <thead>\n",
       "    <tr style=\"text-align: right;\">\n",
       "      <th></th>\n",
       "      <th>Cell_stack_sequence</th>\n",
       "      <th>Cell_architecture</th>\n",
       "      <th>Substrate_stack_sequence</th>\n",
       "      <th>ETL_stack_sequence</th>\n",
       "      <th>ETL_thickness</th>\n",
       "      <th>ETL_deposition_procedure</th>\n",
       "      <th>Perovskite_dimension_list_of_layers</th>\n",
       "      <th>Perovskite_composition_a_ions</th>\n",
       "      <th>Perovskite_composition_a_ions_coefficients</th>\n",
       "      <th>Perovskite_composition_b_ions</th>\n",
       "      <th>...</th>\n",
       "      <th>Stability_potential_bias_load_condition</th>\n",
       "      <th>Perovskite_composition_inorganic</th>\n",
       "      <th>Perovskite_deposition_quenching_induced_crystallisation</th>\n",
       "      <th>Encapsulation</th>\n",
       "      <th>JV_measured</th>\n",
       "      <th>Stabilised_performance_measured</th>\n",
       "      <th>EQE_measured</th>\n",
       "      <th>Stability_periodic_JV_measurements</th>\n",
       "      <th>Stability_PCE_burn_in_observed</th>\n",
       "      <th>Stability_PCE_T80</th>\n",
       "    </tr>\n",
       "  </thead>\n",
       "  <tbody>\n",
       "    <tr>\n",
       "      <th>25</th>\n",
       "      <td>SLG | FTO | TiO2-c | Perovskite | Spiro-MeOTAD...</td>\n",
       "      <td>nip</td>\n",
       "      <td>SLG | FTO</td>\n",
       "      <td>TiO2-c</td>\n",
       "      <td>80.0</td>\n",
       "      <td>CBD</td>\n",
       "      <td>3.0</td>\n",
       "      <td>MA</td>\n",
       "      <td>1</td>\n",
       "      <td>Pb</td>\n",
       "      <td>...</td>\n",
       "      <td>Open circuit</td>\n",
       "      <td>False</td>\n",
       "      <td>True</td>\n",
       "      <td>False</td>\n",
       "      <td>True</td>\n",
       "      <td>False</td>\n",
       "      <td>True</td>\n",
       "      <td>False</td>\n",
       "      <td>False</td>\n",
       "      <td>220.0</td>\n",
       "    </tr>\n",
       "    <tr>\n",
       "      <th>26</th>\n",
       "      <td>SLG | FTO | TiO2-c | Perovskite | Spiro-MeOTAD...</td>\n",
       "      <td>nip</td>\n",
       "      <td>SLG | FTO</td>\n",
       "      <td>TiO2-c</td>\n",
       "      <td>80.0</td>\n",
       "      <td>CBD</td>\n",
       "      <td>3.0</td>\n",
       "      <td>MA</td>\n",
       "      <td>1</td>\n",
       "      <td>Pb</td>\n",
       "      <td>...</td>\n",
       "      <td>Open circuit</td>\n",
       "      <td>False</td>\n",
       "      <td>True</td>\n",
       "      <td>False</td>\n",
       "      <td>True</td>\n",
       "      <td>False</td>\n",
       "      <td>True</td>\n",
       "      <td>False</td>\n",
       "      <td>False</td>\n",
       "      <td>350.0</td>\n",
       "    </tr>\n",
       "    <tr>\n",
       "      <th>27</th>\n",
       "      <td>SLG | FTO | TiO2-c | Perovskite | Spiro-MeOTAD...</td>\n",
       "      <td>nip</td>\n",
       "      <td>SLG | FTO</td>\n",
       "      <td>TiO2-c</td>\n",
       "      <td>NaN</td>\n",
       "      <td>Spin-coating</td>\n",
       "      <td>3.0</td>\n",
       "      <td>Cs; FA; MA</td>\n",
       "      <td>0.05; 0.788; 0.162</td>\n",
       "      <td>Pb</td>\n",
       "      <td>...</td>\n",
       "      <td>MPPT</td>\n",
       "      <td>False</td>\n",
       "      <td>True</td>\n",
       "      <td>False</td>\n",
       "      <td>True</td>\n",
       "      <td>False</td>\n",
       "      <td>True</td>\n",
       "      <td>False</td>\n",
       "      <td>False</td>\n",
       "      <td>200.0</td>\n",
       "    </tr>\n",
       "    <tr>\n",
       "      <th>45</th>\n",
       "      <td>SLG | FTO | SnO2-c | Perovskite | Spiro-MeOTAD...</td>\n",
       "      <td>nip</td>\n",
       "      <td>SLG | FTO</td>\n",
       "      <td>SnO2-c</td>\n",
       "      <td>25.0</td>\n",
       "      <td>CBD</td>\n",
       "      <td>3.0</td>\n",
       "      <td>Cs; FA; MA</td>\n",
       "      <td>0.05; 0.827; 0.123</td>\n",
       "      <td>Pb</td>\n",
       "      <td>...</td>\n",
       "      <td>MPPT</td>\n",
       "      <td>False</td>\n",
       "      <td>True</td>\n",
       "      <td>False</td>\n",
       "      <td>True</td>\n",
       "      <td>False</td>\n",
       "      <td>False</td>\n",
       "      <td>False</td>\n",
       "      <td>False</td>\n",
       "      <td>150.0</td>\n",
       "    </tr>\n",
       "    <tr>\n",
       "      <th>59</th>\n",
       "      <td>SLG | FTO | LiMgNiO-c | Perovskite | PCBM-60 |...</td>\n",
       "      <td>pin</td>\n",
       "      <td>SLG | FTO</td>\n",
       "      <td>PCBM-60 | Carbon-QDs</td>\n",
       "      <td>150.0 | 10.0</td>\n",
       "      <td>Spin-coating | Spin-coating</td>\n",
       "      <td>3.0</td>\n",
       "      <td>MA</td>\n",
       "      <td>1</td>\n",
       "      <td>Pb</td>\n",
       "      <td>...</td>\n",
       "      <td>Open circuit</td>\n",
       "      <td>False</td>\n",
       "      <td>True</td>\n",
       "      <td>False</td>\n",
       "      <td>True</td>\n",
       "      <td>False</td>\n",
       "      <td>False</td>\n",
       "      <td>False</td>\n",
       "      <td>False</td>\n",
       "      <td>450.0</td>\n",
       "    </tr>\n",
       "  </tbody>\n",
       "</table>\n",
       "<p>5 rows × 47 columns</p>\n",
       "</div>"
      ],
      "text/plain": [
       "                                  Cell_stack_sequence Cell_architecture  \\\n",
       "25  SLG | FTO | TiO2-c | Perovskite | Spiro-MeOTAD...               nip   \n",
       "26  SLG | FTO | TiO2-c | Perovskite | Spiro-MeOTAD...               nip   \n",
       "27  SLG | FTO | TiO2-c | Perovskite | Spiro-MeOTAD...               nip   \n",
       "45  SLG | FTO | SnO2-c | Perovskite | Spiro-MeOTAD...               nip   \n",
       "59  SLG | FTO | LiMgNiO-c | Perovskite | PCBM-60 |...               pin   \n",
       "\n",
       "   Substrate_stack_sequence    ETL_stack_sequence ETL_thickness  \\\n",
       "25                SLG | FTO                TiO2-c          80.0   \n",
       "26                SLG | FTO                TiO2-c          80.0   \n",
       "27                SLG | FTO                TiO2-c           NaN   \n",
       "45                SLG | FTO                SnO2-c          25.0   \n",
       "59                SLG | FTO  PCBM-60 | Carbon-QDs  150.0 | 10.0   \n",
       "\n",
       "       ETL_deposition_procedure Perovskite_dimension_list_of_layers  \\\n",
       "25                          CBD                                 3.0   \n",
       "26                          CBD                                 3.0   \n",
       "27                 Spin-coating                                 3.0   \n",
       "45                          CBD                                 3.0   \n",
       "59  Spin-coating | Spin-coating                                 3.0   \n",
       "\n",
       "   Perovskite_composition_a_ions Perovskite_composition_a_ions_coefficients  \\\n",
       "25                            MA                                          1   \n",
       "26                            MA                                          1   \n",
       "27                    Cs; FA; MA                         0.05; 0.788; 0.162   \n",
       "45                    Cs; FA; MA                         0.05; 0.827; 0.123   \n",
       "59                            MA                                          1   \n",
       "\n",
       "   Perovskite_composition_b_ions  ... Stability_potential_bias_load_condition  \\\n",
       "25                            Pb  ...                            Open circuit   \n",
       "26                            Pb  ...                            Open circuit   \n",
       "27                            Pb  ...                                    MPPT   \n",
       "45                            Pb  ...                                    MPPT   \n",
       "59                            Pb  ...                            Open circuit   \n",
       "\n",
       "   Perovskite_composition_inorganic  \\\n",
       "25                            False   \n",
       "26                            False   \n",
       "27                            False   \n",
       "45                            False   \n",
       "59                            False   \n",
       "\n",
       "   Perovskite_deposition_quenching_induced_crystallisation Encapsulation  \\\n",
       "25                                               True              False   \n",
       "26                                               True              False   \n",
       "27                                               True              False   \n",
       "45                                               True              False   \n",
       "59                                               True              False   \n",
       "\n",
       "   JV_measured Stabilised_performance_measured EQE_measured  \\\n",
       "25        True                           False         True   \n",
       "26        True                           False         True   \n",
       "27        True                           False         True   \n",
       "45        True                           False        False   \n",
       "59        True                           False        False   \n",
       "\n",
       "   Stability_periodic_JV_measurements Stability_PCE_burn_in_observed  \\\n",
       "25                              False                          False   \n",
       "26                              False                          False   \n",
       "27                              False                          False   \n",
       "45                              False                          False   \n",
       "59                              False                          False   \n",
       "\n",
       "   Stability_PCE_T80  \n",
       "25             220.0  \n",
       "26             350.0  \n",
       "27             200.0  \n",
       "45             150.0  \n",
       "59             450.0  \n",
       "\n",
       "[5 rows x 47 columns]"
      ]
     },
     "execution_count": 33,
     "metadata": {},
     "output_type": "execute_result"
    }
   ],
   "source": [
    "df_category = pd.concat([df_O_final.drop('Stability_PCE_T80', axis=1),\n",
    "                         df_bool_final.drop('Stability_PCE_T80', axis=1),\n",
    "                         target_notnull], axis=1)\n",
    "print(df_category.shape)\n",
    "df_category.head()"
   ]
  },
  {
   "cell_type": "markdown",
   "id": "84041e34",
   "metadata": {},
   "source": [
    "## 1.3 num(int, float) type"
   ]
  },
  {
   "cell_type": "code",
   "execution_count": 34,
   "id": "4963f03f",
   "metadata": {},
   "outputs": [
    {
     "data": {
      "text/plain": [
       "(42443, 84)"
      ]
     },
     "execution_count": 34,
     "metadata": {},
     "output_type": "execute_result"
    }
   ],
   "source": [
    "df_num.shape"
   ]
  },
  {
   "cell_type": "code",
   "execution_count": 35,
   "id": "457e1a42",
   "metadata": {},
   "outputs": [
    {
     "data": {
      "text/html": [
       "<div>\n",
       "<style scoped>\n",
       "    .dataframe tbody tr th:only-of-type {\n",
       "        vertical-align: middle;\n",
       "    }\n",
       "\n",
       "    .dataframe tbody tr th {\n",
       "        vertical-align: top;\n",
       "    }\n",
       "\n",
       "    .dataframe thead th {\n",
       "        text-align: right;\n",
       "    }\n",
       "</style>\n",
       "<table border=\"1\" class=\"dataframe\">\n",
       "  <thead>\n",
       "    <tr style=\"text-align: right;\">\n",
       "      <th></th>\n",
       "      <th>Ref_ID</th>\n",
       "      <th>Ref_ID_temp</th>\n",
       "      <th>Cell_area_total</th>\n",
       "      <th>Cell_area_measured</th>\n",
       "      <th>Cell_number_of_cells_per_substrate</th>\n",
       "      <th>Module_number_of_cells_in_module</th>\n",
       "      <th>Module_area_total</th>\n",
       "      <th>Module_area_effective</th>\n",
       "      <th>Substrate_area</th>\n",
       "      <th>ETL_storage_time_until_next_deposition_step</th>\n",
       "      <th>...</th>\n",
       "      <th>Stability_flexible_cell_number_of_bending_cycles</th>\n",
       "      <th>Stability_flexible_cell_PCE_initial_value</th>\n",
       "      <th>Stability_flexible_cell_PCE_end_of_experiment</th>\n",
       "      <th>Outdoor_average_over_n_number_of_cells</th>\n",
       "      <th>Outdoor_installation_tilt</th>\n",
       "      <th>Outdoor_time_total_exposure</th>\n",
       "      <th>Outdoor_temperature_tmodule</th>\n",
       "      <th>Outdoor_PCE_initial_value</th>\n",
       "      <th>Outdoor_PCE_end_of_experiment</th>\n",
       "      <th>Outdoor_PCE_T80</th>\n",
       "    </tr>\n",
       "  </thead>\n",
       "  <tbody>\n",
       "    <tr>\n",
       "      <th>0</th>\n",
       "      <td>1</td>\n",
       "      <td>1</td>\n",
       "      <td>NaN</td>\n",
       "      <td>0.2</td>\n",
       "      <td>0</td>\n",
       "      <td>0</td>\n",
       "      <td>NaN</td>\n",
       "      <td>NaN</td>\n",
       "      <td>NaN</td>\n",
       "      <td>NaN</td>\n",
       "      <td>...</td>\n",
       "      <td>0</td>\n",
       "      <td>NaN</td>\n",
       "      <td>NaN</td>\n",
       "      <td>1</td>\n",
       "      <td>NaN</td>\n",
       "      <td>NaN</td>\n",
       "      <td>NaN</td>\n",
       "      <td>NaN</td>\n",
       "      <td>NaN</td>\n",
       "      <td>NaN</td>\n",
       "    </tr>\n",
       "    <tr>\n",
       "      <th>1</th>\n",
       "      <td>2</td>\n",
       "      <td>2</td>\n",
       "      <td>NaN</td>\n",
       "      <td>0.2</td>\n",
       "      <td>0</td>\n",
       "      <td>0</td>\n",
       "      <td>NaN</td>\n",
       "      <td>NaN</td>\n",
       "      <td>NaN</td>\n",
       "      <td>NaN</td>\n",
       "      <td>...</td>\n",
       "      <td>0</td>\n",
       "      <td>NaN</td>\n",
       "      <td>NaN</td>\n",
       "      <td>1</td>\n",
       "      <td>NaN</td>\n",
       "      <td>NaN</td>\n",
       "      <td>NaN</td>\n",
       "      <td>NaN</td>\n",
       "      <td>NaN</td>\n",
       "      <td>NaN</td>\n",
       "    </tr>\n",
       "    <tr>\n",
       "      <th>2</th>\n",
       "      <td>3</td>\n",
       "      <td>3</td>\n",
       "      <td>NaN</td>\n",
       "      <td>0.2</td>\n",
       "      <td>0</td>\n",
       "      <td>0</td>\n",
       "      <td>NaN</td>\n",
       "      <td>NaN</td>\n",
       "      <td>NaN</td>\n",
       "      <td>NaN</td>\n",
       "      <td>...</td>\n",
       "      <td>0</td>\n",
       "      <td>NaN</td>\n",
       "      <td>NaN</td>\n",
       "      <td>1</td>\n",
       "      <td>NaN</td>\n",
       "      <td>NaN</td>\n",
       "      <td>NaN</td>\n",
       "      <td>NaN</td>\n",
       "      <td>NaN</td>\n",
       "      <td>NaN</td>\n",
       "    </tr>\n",
       "    <tr>\n",
       "      <th>3</th>\n",
       "      <td>4</td>\n",
       "      <td>4</td>\n",
       "      <td>NaN</td>\n",
       "      <td>0.2</td>\n",
       "      <td>0</td>\n",
       "      <td>0</td>\n",
       "      <td>NaN</td>\n",
       "      <td>NaN</td>\n",
       "      <td>NaN</td>\n",
       "      <td>NaN</td>\n",
       "      <td>...</td>\n",
       "      <td>0</td>\n",
       "      <td>NaN</td>\n",
       "      <td>NaN</td>\n",
       "      <td>1</td>\n",
       "      <td>NaN</td>\n",
       "      <td>NaN</td>\n",
       "      <td>NaN</td>\n",
       "      <td>NaN</td>\n",
       "      <td>NaN</td>\n",
       "      <td>NaN</td>\n",
       "    </tr>\n",
       "    <tr>\n",
       "      <th>4</th>\n",
       "      <td>5</td>\n",
       "      <td>5</td>\n",
       "      <td>NaN</td>\n",
       "      <td>0.2</td>\n",
       "      <td>0</td>\n",
       "      <td>0</td>\n",
       "      <td>NaN</td>\n",
       "      <td>NaN</td>\n",
       "      <td>NaN</td>\n",
       "      <td>NaN</td>\n",
       "      <td>...</td>\n",
       "      <td>0</td>\n",
       "      <td>NaN</td>\n",
       "      <td>NaN</td>\n",
       "      <td>1</td>\n",
       "      <td>NaN</td>\n",
       "      <td>NaN</td>\n",
       "      <td>NaN</td>\n",
       "      <td>NaN</td>\n",
       "      <td>NaN</td>\n",
       "      <td>NaN</td>\n",
       "    </tr>\n",
       "  </tbody>\n",
       "</table>\n",
       "<p>5 rows × 84 columns</p>\n",
       "</div>"
      ],
      "text/plain": [
       "   Ref_ID  Ref_ID_temp  Cell_area_total  Cell_area_measured  \\\n",
       "0       1            1              NaN                 0.2   \n",
       "1       2            2              NaN                 0.2   \n",
       "2       3            3              NaN                 0.2   \n",
       "3       4            4              NaN                 0.2   \n",
       "4       5            5              NaN                 0.2   \n",
       "\n",
       "   Cell_number_of_cells_per_substrate  Module_number_of_cells_in_module  \\\n",
       "0                                   0                                 0   \n",
       "1                                   0                                 0   \n",
       "2                                   0                                 0   \n",
       "3                                   0                                 0   \n",
       "4                                   0                                 0   \n",
       "\n",
       "   Module_area_total  Module_area_effective  Substrate_area  \\\n",
       "0                NaN                    NaN             NaN   \n",
       "1                NaN                    NaN             NaN   \n",
       "2                NaN                    NaN             NaN   \n",
       "3                NaN                    NaN             NaN   \n",
       "4                NaN                    NaN             NaN   \n",
       "\n",
       "   ETL_storage_time_until_next_deposition_step  ...  \\\n",
       "0                                          NaN  ...   \n",
       "1                                          NaN  ...   \n",
       "2                                          NaN  ...   \n",
       "3                                          NaN  ...   \n",
       "4                                          NaN  ...   \n",
       "\n",
       "   Stability_flexible_cell_number_of_bending_cycles  \\\n",
       "0                                                 0   \n",
       "1                                                 0   \n",
       "2                                                 0   \n",
       "3                                                 0   \n",
       "4                                                 0   \n",
       "\n",
       "   Stability_flexible_cell_PCE_initial_value  \\\n",
       "0                                        NaN   \n",
       "1                                        NaN   \n",
       "2                                        NaN   \n",
       "3                                        NaN   \n",
       "4                                        NaN   \n",
       "\n",
       "   Stability_flexible_cell_PCE_end_of_experiment  \\\n",
       "0                                            NaN   \n",
       "1                                            NaN   \n",
       "2                                            NaN   \n",
       "3                                            NaN   \n",
       "4                                            NaN   \n",
       "\n",
       "   Outdoor_average_over_n_number_of_cells  Outdoor_installation_tilt  \\\n",
       "0                                       1                        NaN   \n",
       "1                                       1                        NaN   \n",
       "2                                       1                        NaN   \n",
       "3                                       1                        NaN   \n",
       "4                                       1                        NaN   \n",
       "\n",
       "   Outdoor_time_total_exposure  Outdoor_temperature_tmodule  \\\n",
       "0                          NaN                          NaN   \n",
       "1                          NaN                          NaN   \n",
       "2                          NaN                          NaN   \n",
       "3                          NaN                          NaN   \n",
       "4                          NaN                          NaN   \n",
       "\n",
       "   Outdoor_PCE_initial_value  Outdoor_PCE_end_of_experiment  Outdoor_PCE_T80  \n",
       "0                        NaN                            NaN              NaN  \n",
       "1                        NaN                            NaN              NaN  \n",
       "2                        NaN                            NaN              NaN  \n",
       "3                        NaN                            NaN              NaN  \n",
       "4                        NaN                            NaN              NaN  \n",
       "\n",
       "[5 rows x 84 columns]"
      ]
     },
     "execution_count": 35,
     "metadata": {},
     "output_type": "execute_result"
    }
   ],
   "source": [
    "df_num.head()"
   ]
  },
  {
   "cell_type": "code",
   "execution_count": 36,
   "id": "6612a1a1",
   "metadata": {},
   "outputs": [
    {
     "data": {
      "text/plain": [
       "(42443, 32)"
      ]
     },
     "execution_count": 36,
     "metadata": {},
     "output_type": "execute_result"
    }
   ],
   "source": [
    "df_ex_null80 = remove_num_n_col_with_target(df_num,80)\n",
    "df_ex_null80.shape"
   ]
  },
  {
   "cell_type": "code",
   "execution_count": 37,
   "id": "f32fa5c3",
   "metadata": {},
   "outputs": [],
   "source": [
    "null_ratios = []\n",
    "cat_top1_names = []\n",
    "cat_top1_ratios = []\n",
    "\n",
    "for i in df_ex_null80.columns:\n",
    "#for i in [ 'Outdoor_time_end', 'Outdoor_temperature_range']:\n",
    "    null_ratio = (df_ex_null80[i].isnull().sum()/df_ex_null80.shape[0])*100\n",
    "    null_ratios.append(null_ratio)\n",
    "    unique = df_ex_null80[i].nunique()\n",
    "    cats = pd.Series(df_ex_null80[i].value_counts()).sort_values(ascending=False)\n",
    "    cats_index = cats.index\n",
    "    cats_values = cats.values\n",
    "    cat_top1_name = cats_index[0]\n",
    "    cat_top1_ratio = (cats_values[0]/cats_values.sum())*100\n",
    "    cat_top1_names.append(cat_top1_name)\n",
    "    cat_top1_ratios.append(cat_top1_ratio)\n",
    "    cat_top10_ratio = (cats_values[:10].sum()/cats_values.sum())*100\n",
    "#     print(f'Info about column \"{i}\"\"\\n')\n",
    "#     print(f'Null ratio: {null_ratio:.2f}%\\n')\n",
    "#     print('Number of unique categories: ', unique, '\\n')\n",
    "#     print(f'Top 10 categories, which compose {cat_top10_ratio:.2f}% of total data count\\n', cats.iloc[:10], '\\n')\n",
    "#     print('='*30)\n",
    "#     print('\\n\\n\\n')"
   ]
  },
  {
   "cell_type": "code",
   "execution_count": 38,
   "id": "bf7b07c8",
   "metadata": {},
   "outputs": [],
   "source": [
    "# null 비율, 최빈 범주의 비율 정리\n",
    "null_cat_top_ratio = pd.DataFrame(zip(null_ratios, cat_top1_names, cat_top1_ratios), columns=['null_ratio', 'cat_top1_name', 'cat_top1_ratio'], index=df_ex_null80.columns)"
   ]
  },
  {
   "cell_type": "code",
   "execution_count": 39,
   "id": "4fa6aab2",
   "metadata": {},
   "outputs": [
    {
     "data": {
      "text/plain": [
       "(42443, 26)"
      ]
     },
     "execution_count": 39,
     "metadata": {},
     "output_type": "execute_result"
    }
   ],
   "source": [
    "# 최빈 범주의 비율이 90% 이상인 컬럼 제거\n",
    "cat_top_remove = null_cat_top_ratio.loc[null_cat_top_ratio.cat_top1_ratio < 90]\n",
    "df_num_cat_top_remove = df_ex_null80[cat_top_remove.index]\n",
    "df_num_cat_top_remove.shape"
   ]
  },
  {
   "cell_type": "code",
   "execution_count": 40,
   "id": "7463ce16",
   "metadata": {},
   "outputs": [
    {
     "data": {
      "text/plain": [
       "array([ 0.01110836,  0.01143752, -0.00433595, -0.0472861 ,  0.04630202,\n",
       "       -0.01306241,  0.52504545,  0.48319694,  1.        ,  0.7446892 ,\n",
       "        0.36059373,  0.47585665,  0.70284896,  0.69741714,  0.52495401,\n",
       "        0.48321547,  1.        ,  0.74977423, -0.04387186,  0.33471474,\n",
       "        0.02660227, -0.05995911,  0.0022306 ,  0.26349386,  0.05890259,\n",
       "        0.06231838])"
      ]
     },
     "execution_count": 40,
     "metadata": {},
     "output_type": "execute_result"
    }
   ],
   "source": [
    "df_num_cat_top_remove.corr()['JV_reverse_scan_FF'].values"
   ]
  },
  {
   "cell_type": "code",
   "execution_count": 41,
   "id": "dbf1a479",
   "metadata": {},
   "outputs": [
    {
     "name": "stdout",
     "output_type": "stream",
     "text": [
      "------------------------------------\n",
      "기준컬럼: Ref_ID \n",
      "\n",
      "상대컬럼: Ref_ID_temp 상관계수: 0.9945005264599842\n",
      "------------------------------------\n",
      "기준컬럼: Ref_ID_temp \n",
      "\n",
      "상대컬럼: Ref_ID 상관계수: 0.9945005264599842\n",
      "------------------------------------\n",
      "기준컬럼: Cell_area_measured \n",
      "\n",
      "------------------------------------\n",
      "기준컬럼: Perovskite_deposition_number_of_deposition_steps \n",
      "\n",
      "------------------------------------\n",
      "기준컬럼: JV_average_over_n_number_of_cells \n",
      "\n",
      "------------------------------------\n",
      "기준컬럼: JV_scan_speed \n",
      "\n",
      "------------------------------------\n",
      "기준컬럼: JV_reverse_scan_Voc \n",
      "\n",
      "상대컬럼: JV_forward_scan_Voc 상관계수: 0.7377197592826223\n",
      "상대컬럼: JV_default_Voc 상관계수: 1.0\n",
      "------------------------------------\n",
      "기준컬럼: JV_reverse_scan_Jsc \n",
      "\n",
      "상대컬럼: JV_reverse_scan_PCE 상관계수: 0.7943361090269094\n",
      "상대컬럼: JV_forward_scan_Jsc 상관계수: 0.9442011282311482\n",
      "상대컬럼: JV_forward_scan_PCE 상관계수: 0.7411555624961027\n",
      "상대컬럼: JV_default_Jsc 상관계수: 0.9999999271039899\n",
      "상대컬럼: JV_default_PCE 상관계수: 0.7998411769806596\n",
      "상대컬럼: EQE_integrated_Jsc 상관계수: 0.9007842873912641\n",
      "------------------------------------\n",
      "기준컬럼: JV_reverse_scan_FF \n",
      "\n",
      "상대컬럼: JV_reverse_scan_PCE 상관계수: 0.7446891967732499\n",
      "상대컬럼: JV_forward_scan_FF 상관계수: 0.7028489567639441\n",
      "상대컬럼: JV_default_FF 상관계수: 1.0\n",
      "상대컬럼: JV_default_PCE 상관계수: 0.7497742312384534\n",
      "------------------------------------\n",
      "기준컬럼: JV_reverse_scan_PCE \n",
      "\n",
      "상대컬럼: JV_reverse_scan_Jsc 상관계수: 0.7943361090269094\n",
      "상대컬럼: JV_reverse_scan_FF 상관계수: 0.7446891967732499\n",
      "상대컬럼: JV_forward_scan_Jsc 상관계수: 0.7855935151770639\n",
      "상대컬럼: JV_forward_scan_PCE 상관계수: 0.9291224062831626\n",
      "상대컬럼: JV_default_Jsc 상관계수: 0.7943749467342558\n",
      "상대컬럼: JV_default_FF 상관계수: 0.7447216612888176\n",
      "상대컬럼: JV_default_PCE 상관계수: 0.9859845853000938\n",
      "상대컬럼: EQE_integrated_Jsc 상관계수: 0.778556029147158\n",
      "------------------------------------\n",
      "기준컬럼: JV_forward_scan_Voc \n",
      "\n",
      "상대컬럼: JV_reverse_scan_Voc 상관계수: 0.7377197592826223\n",
      "상대컬럼: JV_default_Voc 상관계수: 0.7649142790679166\n",
      "------------------------------------\n",
      "기준컬럼: JV_forward_scan_Jsc \n",
      "\n",
      "상대컬럼: JV_reverse_scan_Jsc 상관계수: 0.9442011282311482\n",
      "상대컬럼: JV_reverse_scan_PCE 상관계수: 0.7855935151770639\n",
      "상대컬럼: JV_forward_scan_PCE 상관계수: 0.750148861825912\n",
      "상대컬럼: JV_default_Jsc 상관계수: 0.951526688023714\n",
      "상대컬럼: JV_default_PCE 상관계수: 0.7803901022857397\n",
      "상대컬럼: EQE_integrated_Jsc 상관계수: 0.8689804531016743\n",
      "------------------------------------\n",
      "기준컬럼: JV_forward_scan_FF \n",
      "\n",
      "상대컬럼: JV_reverse_scan_FF 상관계수: 0.7028489567639441\n",
      "상대컬럼: JV_forward_scan_PCE 상관계수: 0.810644504481368\n",
      "상대컬럼: JV_default_FF 상관계수: 0.7219355822887699\n",
      "------------------------------------\n",
      "기준컬럼: JV_forward_scan_PCE \n",
      "\n",
      "상대컬럼: JV_reverse_scan_Jsc 상관계수: 0.7411555624961027\n",
      "상대컬럼: JV_reverse_scan_PCE 상관계수: 0.9291224062831626\n",
      "상대컬럼: JV_forward_scan_Jsc 상관계수: 0.750148861825912\n",
      "상대컬럼: JV_forward_scan_FF 상관계수: 0.810644504481368\n",
      "상대컬럼: JV_default_Jsc 상관계수: 0.7472680711055729\n",
      "상대컬럼: JV_default_FF 상관계수: 0.7077646296374183\n",
      "상대컬럼: JV_default_PCE 상관계수: 0.936849027085355\n",
      "상대컬럼: EQE_integrated_Jsc 상관계수: 0.7338944400033351\n",
      "------------------------------------\n",
      "기준컬럼: JV_default_Voc \n",
      "\n",
      "상대컬럼: JV_reverse_scan_Voc 상관계수: 1.0\n",
      "상대컬럼: JV_forward_scan_Voc 상관계수: 0.7649142790679166\n",
      "------------------------------------\n",
      "기준컬럼: JV_default_Jsc \n",
      "\n",
      "상대컬럼: JV_reverse_scan_Jsc 상관계수: 0.9999999271039899\n",
      "상대컬럼: JV_reverse_scan_PCE 상관계수: 0.7943749467342558\n",
      "상대컬럼: JV_forward_scan_Jsc 상관계수: 0.951526688023714\n",
      "상대컬럼: JV_forward_scan_PCE 상관계수: 0.7472680711055729\n",
      "상대컬럼: JV_default_PCE 상관계수: 0.7994102323077975\n",
      "상대컬럼: EQE_integrated_Jsc 상관계수: 0.9002396410275644\n",
      "------------------------------------\n",
      "기준컬럼: JV_default_FF \n",
      "\n",
      "상대컬럼: JV_reverse_scan_FF 상관계수: 1.0\n",
      "상대컬럼: JV_reverse_scan_PCE 상관계수: 0.7447216612888176\n",
      "상대컬럼: JV_forward_scan_FF 상관계수: 0.7219355822887699\n",
      "상대컬럼: JV_forward_scan_PCE 상관계수: 0.7077646296374183\n",
      "상대컬럼: JV_default_PCE 상관계수: 0.7502728547354813\n",
      "------------------------------------\n",
      "기준컬럼: JV_default_PCE \n",
      "\n",
      "상대컬럼: JV_reverse_scan_Jsc 상관계수: 0.7998411769806596\n",
      "상대컬럼: JV_reverse_scan_FF 상관계수: 0.7497742312384534\n",
      "상대컬럼: JV_reverse_scan_PCE 상관계수: 0.9859845853000938\n",
      "상대컬럼: JV_forward_scan_Jsc 상관계수: 0.7803901022857397\n",
      "상대컬럼: JV_forward_scan_PCE 상관계수: 0.936849027085355\n",
      "상대컬럼: JV_default_Jsc 상관계수: 0.7994102323077975\n",
      "상대컬럼: JV_default_FF 상관계수: 0.7502728547354813\n",
      "상대컬럼: EQE_integrated_Jsc 상관계수: 0.7736509753642444\n",
      "------------------------------------\n",
      "기준컬럼: JV_hysteresis_index \n",
      "\n",
      "------------------------------------\n",
      "기준컬럼: EQE_integrated_Jsc \n",
      "\n",
      "상대컬럼: JV_reverse_scan_Jsc 상관계수: 0.9007842873912641\n",
      "상대컬럼: JV_reverse_scan_PCE 상관계수: 0.778556029147158\n",
      "상대컬럼: JV_forward_scan_Jsc 상관계수: 0.8689804531016743\n",
      "상대컬럼: JV_forward_scan_PCE 상관계수: 0.7338944400033351\n",
      "상대컬럼: JV_default_Jsc 상관계수: 0.9002396410275644\n",
      "상대컬럼: JV_default_PCE 상관계수: 0.7736509753642444\n",
      "------------------------------------\n",
      "기준컬럼: Stability_light_intensity \n",
      "\n",
      "------------------------------------\n",
      "기준컬럼: Stability_relative_humidity_average_value \n",
      "\n",
      "------------------------------------\n",
      "기준컬럼: Stability_time_total_exposure \n",
      "\n",
      "------------------------------------\n",
      "기준컬럼: Stability_PCE_initial_value \n",
      "\n",
      "------------------------------------\n",
      "기준컬럼: Stability_PCE_end_of_experiment \n",
      "\n",
      "------------------------------------\n",
      "기준컬럼: Stability_PCE_T80 \n",
      "\n"
     ]
    }
   ],
   "source": [
    "for col in df_num_cat_top_remove.columns:\n",
    "    print(\"-\"*36)\n",
    "    print(\"기준컬럼:\", col, \"\\n\")\n",
    "    for counter_col, cor_val in enumerate(df_num_cat_top_remove.corr()[col].values):\n",
    "        if (cor_val > 0.7)&(col != df_num_cat_top_remove.columns[counter_col]):\n",
    "            print(\"상대컬럼:\", df_num_cat_top_remove.columns[counter_col], \"상관계수:\", cor_val)"
   ]
  },
  {
   "cell_type": "code",
   "execution_count": 42,
   "id": "560959d5",
   "metadata": {},
   "outputs": [],
   "source": [
    "# 상관계수 0.7 이상인 컬럼은 대표 하나만 남기고 제거\n",
    "final_col = ['Cell_area_measured'\n",
    "            ,'Perovskite_deposition_number_of_deposition_steps'\n",
    "            ,'JV_average_over_n_number_of_cells'\n",
    "            ,'JV_scan_speed'\n",
    "            ,'JV_reverse_scan_Voc'\n",
    "            ,'JV_reverse_scan_Jsc'\n",
    "            ,'JV_reverse_scan_FF'\n",
    "            ,'JV_hysteresis_index'\n",
    "            ,'Stability_light_intensity'\n",
    "            ,'Stability_relative_humidity_average_value'\n",
    "            ,'Stability_time_total_exposure'\n",
    "            ,'Stability_PCE_initial_value'\n",
    "            ,'Stability_PCE_end_of_experiment'\n",
    "            ,'Stability_PCE_T80' # target value\n",
    "            ]\n",
    "del_col = ['JV_forward_scan_Voc'\n",
    "          ,'JV_default_Voc'\n",
    "          ,'JV_reverse_scan_PCE'\n",
    "          ,'JV_forward_scan_Jsc'\n",
    "          ,'JV_forward_scan_PCE'\n",
    "          ,'JV_forward_scan_FF'\n",
    "          ,'JV_default_Jsc'\n",
    "          ,'JV_default_PCE'\n",
    "          ,'JV_default_FF'\n",
    "          ,'EQE_integrated_Jsc'\n",
    "          ]\n",
    "df_num_final = df_num_cat_top_remove[final_col]\n",
    "df_num_final_taget_not_null = df_num_final[~df_num_final['Stability_PCE_T80'].isnull()]"
   ]
  },
  {
   "cell_type": "code",
   "execution_count": 43,
   "id": "57d43954",
   "metadata": {},
   "outputs": [
    {
     "name": "stdout",
     "output_type": "stream",
     "text": [
      "target null 포함 : (42443, 14)\n",
      "target null 미포함: (1834, 14)\n"
     ]
    }
   ],
   "source": [
    "print(\"target null 포함 :\", df_num_final.shape)\n",
    "print(\"target null 미포함:\", df_num_final_taget_not_null.shape)"
   ]
  },
  {
   "cell_type": "markdown",
   "id": "31f1a2d7",
   "metadata": {},
   "source": [
    "## 1.4 최종 데이터 결합"
   ]
  },
  {
   "cell_type": "code",
   "execution_count": 44,
   "id": "935fd338",
   "metadata": {},
   "outputs": [
    {
     "name": "stdout",
     "output_type": "stream",
     "text": [
      "(1834, 60)\n"
     ]
    },
    {
     "data": {
      "text/html": [
       "<div>\n",
       "<style scoped>\n",
       "    .dataframe tbody tr th:only-of-type {\n",
       "        vertical-align: middle;\n",
       "    }\n",
       "\n",
       "    .dataframe tbody tr th {\n",
       "        vertical-align: top;\n",
       "    }\n",
       "\n",
       "    .dataframe thead th {\n",
       "        text-align: right;\n",
       "    }\n",
       "</style>\n",
       "<table border=\"1\" class=\"dataframe\">\n",
       "  <thead>\n",
       "    <tr style=\"text-align: right;\">\n",
       "      <th></th>\n",
       "      <th>Cell_stack_sequence</th>\n",
       "      <th>Cell_architecture</th>\n",
       "      <th>Substrate_stack_sequence</th>\n",
       "      <th>ETL_stack_sequence</th>\n",
       "      <th>ETL_thickness</th>\n",
       "      <th>ETL_deposition_procedure</th>\n",
       "      <th>Perovskite_dimension_list_of_layers</th>\n",
       "      <th>Perovskite_composition_a_ions</th>\n",
       "      <th>Perovskite_composition_a_ions_coefficients</th>\n",
       "      <th>Perovskite_composition_b_ions</th>\n",
       "      <th>...</th>\n",
       "      <th>JV_reverse_scan_Voc</th>\n",
       "      <th>JV_reverse_scan_Jsc</th>\n",
       "      <th>JV_reverse_scan_FF</th>\n",
       "      <th>JV_hysteresis_index</th>\n",
       "      <th>Stability_light_intensity</th>\n",
       "      <th>Stability_relative_humidity_average_value</th>\n",
       "      <th>Stability_time_total_exposure</th>\n",
       "      <th>Stability_PCE_initial_value</th>\n",
       "      <th>Stability_PCE_end_of_experiment</th>\n",
       "      <th>Stability_PCE_T80</th>\n",
       "    </tr>\n",
       "  </thead>\n",
       "  <tbody>\n",
       "    <tr>\n",
       "      <th>25</th>\n",
       "      <td>SLG | FTO | TiO2-c | Perovskite | Spiro-MeOTAD...</td>\n",
       "      <td>nip</td>\n",
       "      <td>SLG | FTO</td>\n",
       "      <td>TiO2-c</td>\n",
       "      <td>80.0</td>\n",
       "      <td>CBD</td>\n",
       "      <td>3.0</td>\n",
       "      <td>MA</td>\n",
       "      <td>1</td>\n",
       "      <td>Pb</td>\n",
       "      <td>...</td>\n",
       "      <td>1.06</td>\n",
       "      <td>19.20</td>\n",
       "      <td>0.654</td>\n",
       "      <td>1.011708</td>\n",
       "      <td>0.0</td>\n",
       "      <td>34.0</td>\n",
       "      <td>480.0</td>\n",
       "      <td>NaN</td>\n",
       "      <td>61.0</td>\n",
       "      <td>220.0</td>\n",
       "    </tr>\n",
       "    <tr>\n",
       "      <th>26</th>\n",
       "      <td>SLG | FTO | TiO2-c | Perovskite | Spiro-MeOTAD...</td>\n",
       "      <td>nip</td>\n",
       "      <td>SLG | FTO</td>\n",
       "      <td>TiO2-c</td>\n",
       "      <td>80.0</td>\n",
       "      <td>CBD</td>\n",
       "      <td>3.0</td>\n",
       "      <td>MA</td>\n",
       "      <td>1</td>\n",
       "      <td>Pb</td>\n",
       "      <td>...</td>\n",
       "      <td>1.10</td>\n",
       "      <td>21.53</td>\n",
       "      <td>0.727</td>\n",
       "      <td>0.408254</td>\n",
       "      <td>0.0</td>\n",
       "      <td>34.0</td>\n",
       "      <td>480.0</td>\n",
       "      <td>NaN</td>\n",
       "      <td>78.0</td>\n",
       "      <td>350.0</td>\n",
       "    </tr>\n",
       "    <tr>\n",
       "      <th>27</th>\n",
       "      <td>SLG | FTO | TiO2-c | Perovskite | Spiro-MeOTAD...</td>\n",
       "      <td>nip</td>\n",
       "      <td>SLG | FTO</td>\n",
       "      <td>TiO2-c</td>\n",
       "      <td>NaN</td>\n",
       "      <td>Spin-coating</td>\n",
       "      <td>3.0</td>\n",
       "      <td>Cs; FA; MA</td>\n",
       "      <td>0.05; 0.788; 0.162</td>\n",
       "      <td>Pb</td>\n",
       "      <td>...</td>\n",
       "      <td>1.08</td>\n",
       "      <td>22.40</td>\n",
       "      <td>0.763</td>\n",
       "      <td>NaN</td>\n",
       "      <td>100.0</td>\n",
       "      <td>NaN</td>\n",
       "      <td>5.0</td>\n",
       "      <td>NaN</td>\n",
       "      <td>75.0</td>\n",
       "      <td>200.0</td>\n",
       "    </tr>\n",
       "    <tr>\n",
       "      <th>45</th>\n",
       "      <td>SLG | FTO | SnO2-c | Perovskite | Spiro-MeOTAD...</td>\n",
       "      <td>nip</td>\n",
       "      <td>SLG | FTO</td>\n",
       "      <td>SnO2-c</td>\n",
       "      <td>25.0</td>\n",
       "      <td>CBD</td>\n",
       "      <td>3.0</td>\n",
       "      <td>Cs; FA; MA</td>\n",
       "      <td>0.05; 0.827; 0.123</td>\n",
       "      <td>Pb</td>\n",
       "      <td>...</td>\n",
       "      <td>1.11</td>\n",
       "      <td>22.48</td>\n",
       "      <td>0.778</td>\n",
       "      <td>NaN</td>\n",
       "      <td>100.0</td>\n",
       "      <td>NaN</td>\n",
       "      <td>700.0</td>\n",
       "      <td>19.5</td>\n",
       "      <td>69.0</td>\n",
       "      <td>150.0</td>\n",
       "    </tr>\n",
       "    <tr>\n",
       "      <th>59</th>\n",
       "      <td>SLG | FTO | LiMgNiO-c | Perovskite | PCBM-60 |...</td>\n",
       "      <td>pin</td>\n",
       "      <td>SLG | FTO</td>\n",
       "      <td>PCBM-60 | Carbon-QDs</td>\n",
       "      <td>150.0 | 10.0</td>\n",
       "      <td>Spin-coating | Spin-coating</td>\n",
       "      <td>3.0</td>\n",
       "      <td>MA</td>\n",
       "      <td>1</td>\n",
       "      <td>Pb</td>\n",
       "      <td>...</td>\n",
       "      <td>1.06</td>\n",
       "      <td>19.40</td>\n",
       "      <td>0.734</td>\n",
       "      <td>NaN</td>\n",
       "      <td>0.0</td>\n",
       "      <td>50.0</td>\n",
       "      <td>500.0</td>\n",
       "      <td>15.0</td>\n",
       "      <td>74.0</td>\n",
       "      <td>450.0</td>\n",
       "    </tr>\n",
       "  </tbody>\n",
       "</table>\n",
       "<p>5 rows × 60 columns</p>\n",
       "</div>"
      ],
      "text/plain": [
       "                                  Cell_stack_sequence Cell_architecture  \\\n",
       "25  SLG | FTO | TiO2-c | Perovskite | Spiro-MeOTAD...               nip   \n",
       "26  SLG | FTO | TiO2-c | Perovskite | Spiro-MeOTAD...               nip   \n",
       "27  SLG | FTO | TiO2-c | Perovskite | Spiro-MeOTAD...               nip   \n",
       "45  SLG | FTO | SnO2-c | Perovskite | Spiro-MeOTAD...               nip   \n",
       "59  SLG | FTO | LiMgNiO-c | Perovskite | PCBM-60 |...               pin   \n",
       "\n",
       "   Substrate_stack_sequence    ETL_stack_sequence ETL_thickness  \\\n",
       "25                SLG | FTO                TiO2-c          80.0   \n",
       "26                SLG | FTO                TiO2-c          80.0   \n",
       "27                SLG | FTO                TiO2-c           NaN   \n",
       "45                SLG | FTO                SnO2-c          25.0   \n",
       "59                SLG | FTO  PCBM-60 | Carbon-QDs  150.0 | 10.0   \n",
       "\n",
       "       ETL_deposition_procedure Perovskite_dimension_list_of_layers  \\\n",
       "25                          CBD                                 3.0   \n",
       "26                          CBD                                 3.0   \n",
       "27                 Spin-coating                                 3.0   \n",
       "45                          CBD                                 3.0   \n",
       "59  Spin-coating | Spin-coating                                 3.0   \n",
       "\n",
       "   Perovskite_composition_a_ions Perovskite_composition_a_ions_coefficients  \\\n",
       "25                            MA                                          1   \n",
       "26                            MA                                          1   \n",
       "27                    Cs; FA; MA                         0.05; 0.788; 0.162   \n",
       "45                    Cs; FA; MA                         0.05; 0.827; 0.123   \n",
       "59                            MA                                          1   \n",
       "\n",
       "   Perovskite_composition_b_ions  ... JV_reverse_scan_Voc JV_reverse_scan_Jsc  \\\n",
       "25                            Pb  ...                1.06               19.20   \n",
       "26                            Pb  ...                1.10               21.53   \n",
       "27                            Pb  ...                1.08               22.40   \n",
       "45                            Pb  ...                1.11               22.48   \n",
       "59                            Pb  ...                1.06               19.40   \n",
       "\n",
       "   JV_reverse_scan_FF JV_hysteresis_index Stability_light_intensity  \\\n",
       "25              0.654            1.011708                       0.0   \n",
       "26              0.727            0.408254                       0.0   \n",
       "27              0.763                 NaN                     100.0   \n",
       "45              0.778                 NaN                     100.0   \n",
       "59              0.734                 NaN                       0.0   \n",
       "\n",
       "   Stability_relative_humidity_average_value Stability_time_total_exposure  \\\n",
       "25                                      34.0                         480.0   \n",
       "26                                      34.0                         480.0   \n",
       "27                                       NaN                           5.0   \n",
       "45                                       NaN                         700.0   \n",
       "59                                      50.0                         500.0   \n",
       "\n",
       "   Stability_PCE_initial_value Stability_PCE_end_of_experiment  \\\n",
       "25                         NaN                            61.0   \n",
       "26                         NaN                            78.0   \n",
       "27                         NaN                            75.0   \n",
       "45                        19.5                            69.0   \n",
       "59                        15.0                            74.0   \n",
       "\n",
       "   Stability_PCE_T80  \n",
       "25             220.0  \n",
       "26             350.0  \n",
       "27             200.0  \n",
       "45             150.0  \n",
       "59             450.0  \n",
       "\n",
       "[5 rows x 60 columns]"
      ]
     },
     "execution_count": 44,
     "metadata": {},
     "output_type": "execute_result"
    }
   ],
   "source": [
    "df_final = pd.concat([df_category.drop('Stability_PCE_T80',axis=1), df_num_final_taget_not_null], axis=1)\n",
    "\n",
    "additional_drop = ['Cell_semitransparent_wavelength_range', \n",
    "                   'Outdoor_location_coordinates',\n",
    "                   'Outdoor_time_start',\n",
    "                   'Outdoor_potential_bias_range']\n",
    "try :\n",
    "    df_final = df_final.drop(columns=i, axis=1)\n",
    "except KeyError:\n",
    "    pass\n",
    "\n",
    "print(df_final.shape)\n",
    "\n",
    "valid_col = df_final.columns\n",
    "df_final.head()"
   ]
  },
  {
   "cell_type": "markdown",
   "id": "b4f710d5",
   "metadata": {},
   "source": [
    "# 2. 전처리"
   ]
  },
  {
   "cell_type": "code",
   "execution_count": 45,
   "id": "78e9c27f",
   "metadata": {},
   "outputs": [
    {
     "data": {
      "text/plain": [
       "(1834, 60)"
      ]
     },
     "execution_count": 45,
     "metadata": {},
     "output_type": "execute_result"
    }
   ],
   "source": [
    "df_processed = df_final.copy()\n",
    "df_processed.reset_index(inplace=True, drop=True)\n",
    "df_processed.shape"
   ]
  },
  {
   "cell_type": "markdown",
   "id": "46411770",
   "metadata": {},
   "source": [
    "## 2.1 Categorical"
   ]
  },
  {
   "cell_type": "markdown",
   "id": "910ce560",
   "metadata": {},
   "source": [
    "1) Delimiter처리(median, ';', '>>')"
   ]
  },
  {
   "cell_type": "code",
   "execution_count": 46,
   "id": "8174ed84",
   "metadata": {},
   "outputs": [
    {
     "name": "stdout",
     "output_type": "stream",
     "text": [
      "(1834, 60)\n"
     ]
    }
   ],
   "source": [
    "# ;와 >>로 구분된 anealing time 간의 중위값을 구하고, unknown값은 전체 유효값의 중위값 처리\n",
    "\n",
    "col_delimiter = ['Perovskite_deposition_thermal_annealing_time']\n",
    "\n",
    "\n",
    "for col in col_delimiter:\n",
    "    df_processed[col] = [i.replace('; ', ' >> ') for i in df_processed[col]]\n",
    "    df_processed[col] = df_processed[col].replace('Unknown', np.nan)\n",
    "    df_processed[col] = [np.median([float(j) for j in i.split(' >> ') if not j=='Unknown']) if type(i)==str else float(i) for i in df_processed[col]]\n",
    "    df_processed[col].fillna(value=df_processed[col].median(), inplace=True)\n",
    "\n",
    "print(df_processed.shape)"
   ]
  },
  {
   "cell_type": "markdown",
   "id": "23099cbf",
   "metadata": {},
   "source": [
    "2) Delimiter처리(가장 첫 layer, '|', nan -> 최빈값)"
   ]
  },
  {
   "cell_type": "code",
   "execution_count": 47,
   "id": "0a8c82bf",
   "metadata": {},
   "outputs": [
    {
     "name": "stdout",
     "output_type": "stream",
     "text": [
      "(1834, 60)\n"
     ]
    }
   ],
   "source": [
    "# 결측치는 최빈값(1개 row), | 포함값은 첫번째 layer의 값만 포함\n",
    "\n",
    "layer_list = ['Perovskite_dimension_list_of_layers']\n",
    "\n",
    "for i in layer_list:\n",
    "    mode = df_processed[i].mode().values[0]\n",
    "    df_processed[i].fillna(mode, inplace=True) \n",
    "    df_processed[i] = df_processed[i].apply(lambda x: x[:3] if '|' in str(x) else x)\n",
    "    df_processed[i] = df_processed[i].astype(float)\n",
    "\n",
    "print(df_processed.shape)"
   ]
  },
  {
   "cell_type": "markdown",
   "id": "e02b98df",
   "metadata": {},
   "source": [
    "3) Delimiter처리(합계, '|', nan →중위값, delimiter로 구분된 nan → 0)"
   ]
  },
  {
   "cell_type": "code",
   "execution_count": 48,
   "id": "656e689c",
   "metadata": {},
   "outputs": [
    {
     "name": "stdout",
     "output_type": "stream",
     "text": [
      "(1834, 60)\n"
     ]
    }
   ],
   "source": [
    "# 각 층의 두께를 모두 더해서 최종 두께를 산출\n",
    "# 하나의 row에 |로 파티션 된 값 중 nan이 있을 경우, 0으로 간주\n",
    "# 하나의 row 단일값이 nan인 경우 중위값으로 대체\n",
    "\n",
    "\n",
    "thickness_list = ['Backcontact_thickness_list', 'HTL_thickness_list', 'ETL_thickness', 'Perovskite_thickness']\n",
    "\n",
    "for col in thickness_list:\n",
    "    df_processed[col] = [sum([float(j) if not np.isnan(float(j)) else 0 for j in i.split('|')]) if type(i)==str else float(i) for i in df_processed[col]]\n",
    "    df_processed[col].fillna(value=df_processed[col].median(), inplace=True)\n",
    "    \n",
    "print(df_processed.shape)"
   ]
  },
  {
   "cell_type": "markdown",
   "id": "14418781",
   "metadata": {},
   "source": [
    "4) Top n 유지 (10, 4, 3, 2)"
   ]
  },
  {
   "cell_type": "code",
   "execution_count": 49,
   "id": "16177d82",
   "metadata": {},
   "outputs": [
    {
     "name": "stdout",
     "output_type": "stream",
     "text": [
      "(1834, 60)\n"
     ]
    }
   ],
   "source": [
    "# 범주형 데이터의 빈도수를 기준으로 가장 높은 것부터 n개만 남기고 나머지는 ect 처리\n",
    "\n",
    "\n",
    "def top_n_value_with_etc(df, col, n):\n",
    "    n = int(n)\n",
    "    survive_value_list = df[col].value_counts().index[:n] # 상위 n-1개 범주 list 생성\n",
    "    df[col] = np.where(df[col].isin(survive_value_list), df[col], 'etc') # 상위 범주에 속하면 그대로, 아니면 'etc' 로 변경\n",
    "    return df[col]\n",
    "\n",
    "def save_unique_val(dict_, col_name, item):\n",
    "    if col_name not in dict_.keys():\n",
    "        dict_[col_name] = []\n",
    "    dict_[col_name].append(item)\n",
    "    return dict_\n",
    "    \n",
    "\n",
    "\n",
    "top_10 = ['Cell_stack_sequence', 'ETL_stack_sequence', 'ETL_deposition_procedure', 'Perovskite_composition_short_form',\n",
    "          'Perovskite_deposition_solvents']\n",
    "\n",
    "top_4 = ['Perovskite_deposition_quenching_media', 'Backcontact_deposition_procedure']\n",
    "\n",
    "top_3 = ['Substrate_stack_sequence', 'Perovskite_band_gap_estimation_basis', 'Perovskite_deposition_procedure', \n",
    "         'Perovskite_deposition_aggregation_state_of_reactants', 'Perovskite_deposition_synthesis_atmosphere', \n",
    "         'HTL_additives_compounds', 'HTL_deposition_procedure', 'Backcontact_stack_sequence', 'JV_test_atmosphere', \n",
    "         'Stability_light_source_type', 'Stability_protocol']\n",
    "\n",
    "top_2 = ['Cell_architecture', 'JV_default_PCE_scan_direction']\n",
    "\n",
    "\n",
    "val = [top_2, top_3, top_4, top_10]\n",
    "\n",
    "for val in val:\n",
    "    if val == top_10:\n",
    "        for col in val:\n",
    "            df_processed[col] = top_n_value_with_etc(df_processed, col, 10)\n",
    "    elif val == top_4:\n",
    "        for col in val:\n",
    "            df_processed[col] = top_n_value_with_etc(df_processed, col, 4)\n",
    "    elif val == top_3:\n",
    "        for col in val:\n",
    "            df_processed[col] = top_n_value_with_etc(df_processed, col, 3)\n",
    "    elif val == top_2:\n",
    "        for col in val:\n",
    "            df_processed[col] = top_n_value_with_etc(df_processed, col, 2)\n",
    "            \n",
    "print(df_processed.shape)\n",
    "\n",
    "\n",
    "unique_dict = {} \n",
    "for col in top_2 + top_3 + top_4 + top_10:\n",
    "    for item in df_processed[col].unique():\n",
    "        unique_dict = save_unique_val(unique_dict, col, item)\n",
    "\n",
    "# print(unique_dict)\n",
    "# ions_list = ['Perovskite_composition_a_ions', 'Perovskite_composition_b_ions', 'Perovskite_composition_c_ions']"
   ]
  },
  {
   "cell_type": "markdown",
   "id": "c742b92c",
   "metadata": {},
   "source": [
    "5) 재분류"
   ]
  },
  {
   "cell_type": "code",
   "execution_count": 50,
   "id": "9edf7e43",
   "metadata": {},
   "outputs": [
    {
     "name": "stdout",
     "output_type": "stream",
     "text": [
      "(1834, 60)\n"
     ]
    }
   ],
   "source": [
    "# Stability_potential_bias_load_condition: 재분류(Open circuit인것과 아닌것)\n",
    "df_processed.loc[df_processed[\"Stability_potential_bias_load_condition\"] != \"Open circuit\", \"Stability_potential_bias_load_condition\"] = \"not Open circuit\"\n",
    "\n",
    "\n",
    "# HTL_stack_sequence : 재분류(spiro-MeOTAD 포함된 것 / 포함 안된것)\n",
    "df_processed.loc[~df_processed[\"HTL_stack_sequence\"].str.contains(\"Spiro-MeOTAD\", case=True, regex=False), \"HTL_stack_sequence\"] = \"no-Spiro-MeOTAD\"\n",
    "df_processed.loc[df_processed[\"HTL_stack_sequence\"] != \"no-Spiro-MeOTAD\", \"HTL_stack_sequence\"] = \"Spiro-MeOTAD\"\n",
    "\n",
    "# Perovskite_additives_compounds : 재분류(Unknown/ Undoped(도핑안한것) /(도핑한것))\n",
    "df_processed[\"Perovskite_additives_compounds\"].fillna(\"Unknown\", inplace=True)\n",
    "df_processed.loc[(df_processed[\"Perovskite_additives_compounds\"] != \"Unknown\") & (df_processed[\"Perovskite_additives_compounds\"] != \"Undoped\"), \"Perovskite_additives_compounds\"] = \"Doped\"\n",
    "\n",
    "print(df_processed.shape)"
   ]
  },
  {
   "cell_type": "markdown",
   "id": "ebb5a892",
   "metadata": {},
   "source": [
    "6) ions 관련정보 처리"
   ]
  },
  {
   "cell_type": "code",
   "execution_count": 51,
   "id": "d91f7994",
   "metadata": {},
   "outputs": [],
   "source": [
    "def create_mapped_df(name_df, value_df):\n",
    "    column_names = []\n",
    "    \n",
    "    for i in name_df:    #create shell\n",
    "        for i in name_df[i]:\n",
    "            i = str(i).strip()\n",
    "            column_names.append(i)\n",
    "    column_names = set(column_names)\n",
    "    \n",
    "    zeros = np.zeros(shape=(name_df.shape[0],len(column_names)))\n",
    "    shell_df = pd.DataFrame(zeros, columns=column_names)\n",
    "\n",
    "    for n1,a in enumerate(shell_df.columns):    #fill shell\n",
    "        for n2,b in enumerate(name_df.columns):\n",
    "            for n3,c in enumerate(name_df[b]):\n",
    "                if str(a) in str(c):\n",
    "                    shell_df.iloc[n3,n1] = value_df.iloc[n3,n2]\n",
    "    \n",
    "    mapped_df = shell_df\n",
    "    \n",
    "    return mapped_df\n",
    "\n",
    "def deep_auto_split(df, col, delimiter1='|', delimiter2=';'):     #splits going into both '|' & ';' levels\n",
    "    df_split = auto_split(df, col, delimiter1)\n",
    "    \n",
    "    df_deep_splits_list = []\n",
    "    \n",
    "    for n, i in enumerate(df_split.columns):\n",
    "        df_deep_split = auto_split(df_split, i, delimiter2)\n",
    "        col_names = []\n",
    "        for i in df_deep_split.columns:\n",
    "            col_name = str(n)+i\n",
    "            col_names.append(col_name)\n",
    "        df_deep_split.columns = col_names\n",
    "        \n",
    "        df_deep_splits_list.append(df_deep_split)\n",
    "    \n",
    "    df_deep_splits = pd.concat(df_deep_splits_list, axis=1)\n",
    "    \n",
    "    return df_deep_splits\n",
    "\n",
    "\n",
    "def auto_split(df, col, delimiter):\n",
    "    split = df[col].str.split(delimiter)\n",
    "\n",
    "    max_len = 0     #count the max number of columns needed to express properly\n",
    "    for i in split:\n",
    "        try:\n",
    "            if len(i) > max_len:\n",
    "                max_len=len(i)\n",
    "        except TypeError:\n",
    "            continue\n",
    "\n",
    "    split_sized = []     #make properly sized list based on the previously counted columns needed\n",
    "    col_names = []    #generate column names\n",
    "    for n in range(max_len):\n",
    "        split_sized.append(split.str.get(n))\n",
    "        col_name = col+str(n)\n",
    "        col_names.append(col_name)\n",
    "\n",
    "    df_split = pd.DataFrame(split_sized, index=col_names).transpose()    #create the dataframe\n",
    "        \n",
    "    return df_split\n",
    "\n",
    "def get_ion_col(df):\n",
    "    ion_work_columns = []\n",
    "\n",
    "    for i in df.columns:\n",
    "        if 'ions' in i:\n",
    "            ion_work_columns.append(i)\n",
    "\n",
    "    return ion_work_columns"
   ]
  },
  {
   "cell_type": "code",
   "execution_count": 52,
   "id": "b00232d1",
   "metadata": {},
   "outputs": [
    {
     "name": "stdout",
     "output_type": "stream",
     "text": [
      "(1834, 47)\n"
     ]
    },
    {
     "data": {
      "text/html": [
       "<div>\n",
       "<style scoped>\n",
       "    .dataframe tbody tr th:only-of-type {\n",
       "        vertical-align: middle;\n",
       "    }\n",
       "\n",
       "    .dataframe tbody tr th {\n",
       "        vertical-align: top;\n",
       "    }\n",
       "\n",
       "    .dataframe thead th {\n",
       "        text-align: right;\n",
       "    }\n",
       "</style>\n",
       "<table border=\"1\" class=\"dataframe\">\n",
       "  <thead>\n",
       "    <tr style=\"text-align: right;\">\n",
       "      <th></th>\n",
       "      <th>a_ion_(Cl-PEA)</th>\n",
       "      <th>a_ion_(GABA)</th>\n",
       "      <th>a_ion_(PEI)</th>\n",
       "      <th>a_ion_BDA</th>\n",
       "      <th>a_ion_(3AMP)</th>\n",
       "      <th>a_ion_(BYA)</th>\n",
       "      <th>a_ion_PA</th>\n",
       "      <th>a_ion_(CIEA)</th>\n",
       "      <th>a_ion_Cs</th>\n",
       "      <th>a_ion_Ca</th>\n",
       "      <th>...</th>\n",
       "      <th>b_ion_Sb</th>\n",
       "      <th>b_ion_Ca</th>\n",
       "      <th>b_ion_Eu</th>\n",
       "      <th>b_ion_Ba</th>\n",
       "      <th>b_ion_Ge</th>\n",
       "      <th>c_ion_Cl</th>\n",
       "      <th>c_ion_Br</th>\n",
       "      <th>c_ion_I</th>\n",
       "      <th>c_ion_(PF6)</th>\n",
       "      <th>c_ion_F</th>\n",
       "    </tr>\n",
       "  </thead>\n",
       "  <tbody>\n",
       "    <tr>\n",
       "      <th>0</th>\n",
       "      <td>0.0</td>\n",
       "      <td>0.0</td>\n",
       "      <td>0.0</td>\n",
       "      <td>0.0</td>\n",
       "      <td>0.0</td>\n",
       "      <td>0.0</td>\n",
       "      <td>0.0</td>\n",
       "      <td>0.0</td>\n",
       "      <td>0.00</td>\n",
       "      <td>0.0</td>\n",
       "      <td>...</td>\n",
       "      <td>0.0</td>\n",
       "      <td>0.0</td>\n",
       "      <td>0.0</td>\n",
       "      <td>0.0</td>\n",
       "      <td>0.0</td>\n",
       "      <td>0.0</td>\n",
       "      <td>0.000</td>\n",
       "      <td>3.000</td>\n",
       "      <td>0.0</td>\n",
       "      <td>0.0</td>\n",
       "    </tr>\n",
       "    <tr>\n",
       "      <th>1</th>\n",
       "      <td>0.0</td>\n",
       "      <td>0.0</td>\n",
       "      <td>0.0</td>\n",
       "      <td>0.0</td>\n",
       "      <td>0.0</td>\n",
       "      <td>0.0</td>\n",
       "      <td>0.0</td>\n",
       "      <td>0.0</td>\n",
       "      <td>0.00</td>\n",
       "      <td>0.0</td>\n",
       "      <td>...</td>\n",
       "      <td>0.0</td>\n",
       "      <td>0.0</td>\n",
       "      <td>0.0</td>\n",
       "      <td>0.0</td>\n",
       "      <td>0.0</td>\n",
       "      <td>0.0</td>\n",
       "      <td>0.000</td>\n",
       "      <td>3.000</td>\n",
       "      <td>0.0</td>\n",
       "      <td>0.0</td>\n",
       "    </tr>\n",
       "    <tr>\n",
       "      <th>2</th>\n",
       "      <td>0.0</td>\n",
       "      <td>0.0</td>\n",
       "      <td>0.0</td>\n",
       "      <td>0.0</td>\n",
       "      <td>0.0</td>\n",
       "      <td>0.0</td>\n",
       "      <td>0.0</td>\n",
       "      <td>0.0</td>\n",
       "      <td>0.05</td>\n",
       "      <td>0.0</td>\n",
       "      <td>...</td>\n",
       "      <td>0.0</td>\n",
       "      <td>0.0</td>\n",
       "      <td>0.0</td>\n",
       "      <td>0.0</td>\n",
       "      <td>0.0</td>\n",
       "      <td>0.0</td>\n",
       "      <td>0.510</td>\n",
       "      <td>2.490</td>\n",
       "      <td>0.0</td>\n",
       "      <td>0.0</td>\n",
       "    </tr>\n",
       "    <tr>\n",
       "      <th>3</th>\n",
       "      <td>0.0</td>\n",
       "      <td>0.0</td>\n",
       "      <td>0.0</td>\n",
       "      <td>0.0</td>\n",
       "      <td>0.0</td>\n",
       "      <td>0.0</td>\n",
       "      <td>0.0</td>\n",
       "      <td>0.0</td>\n",
       "      <td>0.05</td>\n",
       "      <td>0.0</td>\n",
       "      <td>...</td>\n",
       "      <td>0.0</td>\n",
       "      <td>0.0</td>\n",
       "      <td>0.0</td>\n",
       "      <td>0.0</td>\n",
       "      <td>0.0</td>\n",
       "      <td>0.0</td>\n",
       "      <td>0.369</td>\n",
       "      <td>2.631</td>\n",
       "      <td>0.0</td>\n",
       "      <td>0.0</td>\n",
       "    </tr>\n",
       "    <tr>\n",
       "      <th>4</th>\n",
       "      <td>0.0</td>\n",
       "      <td>0.0</td>\n",
       "      <td>0.0</td>\n",
       "      <td>0.0</td>\n",
       "      <td>0.0</td>\n",
       "      <td>0.0</td>\n",
       "      <td>0.0</td>\n",
       "      <td>0.0</td>\n",
       "      <td>0.00</td>\n",
       "      <td>0.0</td>\n",
       "      <td>...</td>\n",
       "      <td>0.0</td>\n",
       "      <td>0.0</td>\n",
       "      <td>0.0</td>\n",
       "      <td>0.0</td>\n",
       "      <td>0.0</td>\n",
       "      <td>0.0</td>\n",
       "      <td>0.000</td>\n",
       "      <td>3.000</td>\n",
       "      <td>0.0</td>\n",
       "      <td>0.0</td>\n",
       "    </tr>\n",
       "  </tbody>\n",
       "</table>\n",
       "<p>5 rows × 47 columns</p>\n",
       "</div>"
      ],
      "text/plain": [
       "   a_ion_(Cl-PEA)  a_ion_(GABA)  a_ion_(PEI)  a_ion_BDA  a_ion_(3AMP)  \\\n",
       "0             0.0           0.0          0.0        0.0           0.0   \n",
       "1             0.0           0.0          0.0        0.0           0.0   \n",
       "2             0.0           0.0          0.0        0.0           0.0   \n",
       "3             0.0           0.0          0.0        0.0           0.0   \n",
       "4             0.0           0.0          0.0        0.0           0.0   \n",
       "\n",
       "   a_ion_(BYA)  a_ion_PA  a_ion_(CIEA)  a_ion_Cs  a_ion_Ca  ...  b_ion_Sb  \\\n",
       "0          0.0       0.0           0.0      0.00       0.0  ...       0.0   \n",
       "1          0.0       0.0           0.0      0.00       0.0  ...       0.0   \n",
       "2          0.0       0.0           0.0      0.05       0.0  ...       0.0   \n",
       "3          0.0       0.0           0.0      0.05       0.0  ...       0.0   \n",
       "4          0.0       0.0           0.0      0.00       0.0  ...       0.0   \n",
       "\n",
       "   b_ion_Ca  b_ion_Eu  b_ion_Ba  b_ion_Ge  c_ion_Cl  c_ion_Br  c_ion_I  \\\n",
       "0       0.0       0.0       0.0       0.0       0.0     0.000    3.000   \n",
       "1       0.0       0.0       0.0       0.0       0.0     0.000    3.000   \n",
       "2       0.0       0.0       0.0       0.0       0.0     0.510    2.490   \n",
       "3       0.0       0.0       0.0       0.0       0.0     0.369    2.631   \n",
       "4       0.0       0.0       0.0       0.0       0.0     0.000    3.000   \n",
       "\n",
       "   c_ion_(PF6)  c_ion_F  \n",
       "0          0.0      0.0  \n",
       "1          0.0      0.0  \n",
       "2          0.0      0.0  \n",
       "3          0.0      0.0  \n",
       "4          0.0      0.0  \n",
       "\n",
       "[5 rows x 47 columns]"
      ]
     },
     "execution_count": 52,
     "metadata": {},
     "output_type": "execute_result"
    }
   ],
   "source": [
    "\n",
    "ions_list = [('Perovskite_composition_a_ions', 'Perovskite_composition_a_ions_coefficients'),\n",
    "             ('Perovskite_composition_b_ions', 'Perovskite_composition_b_ions_coefficients'),\n",
    "             ('Perovskite_composition_c_ions', 'Perovskite_composition_c_ions_coefficients')]\n",
    "ion_cols = get_ion_col(df_processed)\n",
    "\n",
    "df_work = df_processed.copy()[ion_cols]\n",
    "\n",
    "ion_map_dfs = []\n",
    "for ion in ions_list:\n",
    "    df_temp = []\n",
    "    for j in ion:\n",
    "        df_temp.append(deep_auto_split(df_work, j))\n",
    "    ion_map_dfs.append(create_mapped_df(*df_temp).drop(columns='nan').add_prefix(ion[0].split('_')[2]+\"_ion_\"))\n",
    "\n",
    "df_ion_map = pd.concat(ion_map_dfs, axis=1)\n",
    "df_ion_map = df_ion_map.fillna(0).replace(r'x', 0, regex=True).astype('float64') #there are 'x's for some reason\n",
    "\n",
    "ion_map_col = ['a_ion_(Cl-PEA)', 'a_ion_(GABA)', 'a_ion_(PEI)', 'a_ion_BDA',\n",
    "       'a_ion_(3AMP)', 'a_ion_(BYA)', 'a_ion_PA', 'a_ion_(CIEA)', 'a_ion_Cs',\n",
    "       'a_ion_Ca', 'a_ion_Rb', 'a_ion_(EPA)', 'a_ion_PMA', 'a_ion_(HTAB)',\n",
    "       'a_ion_BA', 'a_ion_(NH4)', 'a_ion_HA', 'a_ion_MA', 'a_ion_(BEA)',\n",
    "       'a_ion_(CPEA)', 'a_ion_(HEA)', 'a_ion_Aa', 'a_ion_EA', 'a_ion_BE',\n",
    "       'a_ion_(EU-pyP)', 'a_ion_GU', 'a_ion_Ag', 'a_ion_(TBA)', 'a_ion_(TEA)',\n",
    "       'a_ion_FA', 'a_ion_(BDA)', 'a_ion_(TFEA)', 'a_ion_(PEA)',\n",
    "       'a_ion_(1.3-Pr(NH3)2)', 'b_ion_Pb', 'b_ion_Bi', 'b_ion_Sn', 'b_ion_Sb',\n",
    "       'b_ion_Ca', 'b_ion_Eu', 'b_ion_Ba', 'b_ion_Ge', 'c_ion_Cl', 'c_ion_Br',\n",
    "       'c_ion_I', 'c_ion_(PF6)', 'c_ion_F']\n",
    "\n",
    "df_ion_map = df_ion_map[ion_map_col]\n",
    "print(df_ion_map.shape)\n",
    "df_ion_map.head()"
   ]
  },
  {
   "cell_type": "code",
   "execution_count": 53,
   "id": "6375bb40",
   "metadata": {},
   "outputs": [
    {
     "name": "stdout",
     "output_type": "stream",
     "text": [
      "(1834, 101)\n"
     ]
    }
   ],
   "source": [
    "# 전처리된 ion 컬럼과 전체 데이터셋을 합침\n",
    "\n",
    "try:\n",
    "    df_processed = df_processed.drop(columns=ion_cols, axis=1)\n",
    "except KeyError:\n",
    "    pass\n",
    "else:\n",
    "    df_processed = pd.concat([df_processed, df_ion_map], axis=1)\n",
    "\n",
    "print(df_processed.shape)"
   ]
  },
  {
   "cell_type": "markdown",
   "id": "83c51ccf",
   "metadata": {},
   "source": [
    "## 2.2 Numeric"
   ]
  },
  {
   "cell_type": "markdown",
   "id": "065102d5",
   "metadata": {},
   "source": [
    "1) Null 처리(중위값)"
   ]
  },
  {
   "cell_type": "code",
   "execution_count": 54,
   "id": "fcff737c",
   "metadata": {},
   "outputs": [
    {
     "name": "stdout",
     "output_type": "stream",
     "text": [
      "(1834, 101)\n"
     ]
    }
   ],
   "source": [
    "numeric_with_nan = ['Perovskite_band_gap', 'Perovskite_pl_max', 'Cell_area_measured', 'JV_scan_speed', 'JV_reverse_scan_Voc', \n",
    "                    'JV_reverse_scan_Jsc', 'JV_reverse_scan_FF', 'JV_hysteresis_index', 'Stability_PCE_initial_value']\n",
    "\n",
    "for i in numeric_with_nan:\n",
    "    df_processed[i] = df_processed[i].astype(float)\n",
    "    df_processed[i].fillna(value=df_processed[i].median(), inplace=True)\n",
    "\n",
    "print(df_processed.shape)"
   ]
  },
  {
   "cell_type": "markdown",
   "id": "411814c1",
   "metadata": {},
   "source": [
    "## 2.3 Target 조정"
   ]
  },
  {
   "cell_type": "code",
   "execution_count": 55,
   "id": "86f46283",
   "metadata": {},
   "outputs": [
    {
     "name": "stdout",
     "output_type": "stream",
     "text": [
      "['ISOS-D-1' 'ISOS-L-1' 'etc' 'ISOS-D-1I']\n",
      "(1834, 102)\n"
     ]
    }
   ],
   "source": [
    "\"\"\" Stability_protocol에 따라 t80 측정환경이 달라짐을 고려하여, Stability_protocol 최빈값의 평균 대비,\n",
    "Stability_protocol의 구분 각각에 대한 t80의 평균의 비율로 t80을 나눠서 측정 조건에 따른 결과값으 변동을 조정한 별도의 \n",
    "Stability_PCE_T80_ADJ 컬럼을 구성함\n",
    "\"\"\"\n",
    "\n",
    "\n",
    "target = 'Stability_PCE_T80'\n",
    "target_adj = 'Stability_PCE_T80_ADJ'\n",
    "df_processed_adj = df_processed.copy()\n",
    "\n",
    "protocols = df_processed_adj[\"Stability_protocol\"].unique()\n",
    "print(protocols)\n",
    "\n",
    "for i in protocols:\n",
    "    df_processed_adj.loc[(df_processed_adj[\"Stability_protocol\"] == i), 'temp_Stability_protocol_avg'] = round(np.mean(df_processed_adj[df_processed_adj['Stability_protocol']==i][target]),0)\n",
    "df_processed_adj['temp_Stability_protocol_ratio'] = df_processed_adj['temp_Stability_protocol_avg'] / df_processed_adj['temp_Stability_protocol_avg'].mode().values[0]\n",
    "df_processed_adj[target_adj] = round(df_processed_adj[target] / df_processed_adj['temp_Stability_protocol_ratio'],0)\n",
    "\n",
    "if target_adj not in df_processed.columns:\n",
    "    df_processed[target_adj] = df_processed_adj[target_adj]\n",
    "print(df_processed.shape)"
   ]
  },
  {
   "cell_type": "markdown",
   "id": "34282ab6",
   "metadata": {},
   "source": [
    "## 2.4 Target 연관정보 Drop"
   ]
  },
  {
   "cell_type": "code",
   "execution_count": 56,
   "id": "a4ce338a",
   "metadata": {},
   "outputs": [
    {
     "name": "stdout",
     "output_type": "stream",
     "text": [
      "(1834, 92)\n"
     ]
    }
   ],
   "source": [
    "delete_list = ['Perovskite_composition_long_form', \n",
    "               'Stability_time_total_exposure', \n",
    "               'Stability_PCE_end_of_experiment',\n",
    "               'Stability_light_intensity',\n",
    "               'Stability_relative_humidity_average_value',\n",
    "               'Stability_protocol',\n",
    "               'Stability_light_source_type',\n",
    "               'Stability_PCE_burn_in_observed', \n",
    "               'EQE_measured', \n",
    "               'Stability_PCE_initial_value']\n",
    "for i in delete_list:\n",
    "    try:\n",
    "        df_processed = df_processed.drop(columns=i, axis=1)\n",
    "    except KeyError:\n",
    "        continue\n",
    "\n",
    "\n",
    "print(df_processed.shape)"
   ]
  },
  {
   "cell_type": "markdown",
   "id": "16933500",
   "metadata": {},
   "source": [
    "## 2.5 출력 / 검증"
   ]
  },
  {
   "cell_type": "code",
   "execution_count": 57,
   "id": "0bcdb5a4",
   "metadata": {},
   "outputs": [
    {
     "name": "stdout",
     "output_type": "stream",
     "text": [
      "(1834, 92)\n"
     ]
    }
   ],
   "source": [
    "col_seq = [i for i in df_processed.columns if i not in [target, target_adj]] + [target, target_adj]\n",
    "df_processed = df_processed[col_seq]\n",
    "print(df_processed.shape)\n",
    "\n",
    "# 전처리된 테이블 엑셀출력\n",
    "file_name = \"processed_data_v3.csv\"\n",
    "\n",
    "df_processed.to_csv(file_name, index=False)\n",
    "       \n",
    "# import os\n",
    "# os.startfile(file_name)"
   ]
  },
  {
   "cell_type": "code",
   "execution_count": 58,
   "id": "f610ca50",
   "metadata": {},
   "outputs": [],
   "source": [
    "df_ = df_processed.copy()\n",
    "\n",
    "# df_rf = pd.read_csv(\"./processed_data_v3.csv\")\n",
    "# df_rf.head()"
   ]
  },
  {
   "cell_type": "markdown",
   "id": "4eaf8912",
   "metadata": {},
   "source": [
    "# 3. 모델링"
   ]
  },
  {
   "cell_type": "markdown",
   "id": "bf7ee588",
   "metadata": {},
   "source": [
    "## 3.1 target 정의"
   ]
  },
  {
   "cell_type": "markdown",
   "id": "108a57d8",
   "metadata": {},
   "source": [
    "#### 1. 상위10%(1,0)"
   ]
  },
  {
   "cell_type": "code",
   "execution_count": 59,
   "id": "40a4ce95",
   "metadata": {},
   "outputs": [],
   "source": [
    "df_.loc[df_[\"Stability_PCE_T80_ADJ\"].isin(df_[\"Stability_PCE_T80_ADJ\"].nlargest(int(df_.Stability_PCE_T80.shape[0] * 0.1))), \"Target_top10\"] = 1\n",
    "df_[\"Target_top10\"]= df_[\"Target_top10\"].fillna(0)"
   ]
  },
  {
   "cell_type": "markdown",
   "id": "70203131",
   "metadata": {},
   "source": [
    "## 3.2 Random Forest"
   ]
  },
  {
   "cell_type": "code",
   "execution_count": 60,
   "id": "d73fb496",
   "metadata": {},
   "outputs": [],
   "source": [
    "from sklearn.model_selection import train_test_split\n",
    "from sklearn.ensemble import RandomForestClassifier\n",
    "from sklearn.metrics import accuracy_score\n",
    "from sklearn.metrics import classification_report\n",
    "from sklearn.inspection import permutation_importance\n",
    "import warnings\n",
    "warnings.filterwarnings('ignore')"
   ]
  },
  {
   "cell_type": "markdown",
   "id": "9d73b1cd",
   "metadata": {},
   "source": [
    "#### 1. Helper functions"
   ]
  },
  {
   "cell_type": "code",
   "execution_count": 61,
   "id": "c54d8927",
   "metadata": {},
   "outputs": [],
   "source": [
    "obj=[]\n",
    "for i in df_.columns:\n",
    "    if df_[i].dtypes == \"object\":\n",
    "        obj.append(i) "
   ]
  },
  {
   "cell_type": "code",
   "execution_count": 62,
   "id": "9671ced1",
   "metadata": {},
   "outputs": [],
   "source": [
    "def get_confusion_matrix_values(y_test, pred_yn):\n",
    "    cm = confusion_matrix(y_test, pred_yn, labels = [1,0])\n",
    "    return (cm[0][0], cm[0][1], cm[1][0], cm[1][1])"
   ]
  },
  {
   "cell_type": "code",
   "execution_count": 63,
   "id": "1bca5f1d",
   "metadata": {},
   "outputs": [],
   "source": [
    "def run_model(model, X_train, X_test, y_train, y_test, name):\n",
    "    model.fit(X_train, y_train)\n",
    "\n",
    "    model_predict = model.predict(X_test)\n",
    "    model_predict_proba = model.predict_proba(X_test)[:,1]\n",
    "\n",
    "    result_list = []\n",
    "    max_f1 = 0\n",
    "    opt_threshold = 0\n",
    "    f1_score = 0\n",
    "    precision = 0\n",
    "    recall = 0\n",
    "    support = 0\n",
    "    accuracy = 0\n",
    "    threshold = 0\n",
    "    for n in range(0,50):\n",
    "        threshold = round(((n+1)*0.01), 2)\n",
    "        pred_yn = np.where(model_predict_proba > threshold, 1., 0.)\n",
    "        precision, recall, f1_score, support = precision_recall_fscore_support(y_test, pred_yn, average ='binary')\n",
    "        accuracy = accuracy_score(y_test, pred_yn)\n",
    "        tp, fn, fp, tn = get_confusion_matrix_values(y_test, pred_yn)\n",
    "        result_dict = {}\n",
    "        result_dict = {'threshold': threshold, 'Accuracy':round(accuracy, 4), 'Precision': round(precision, 4),\n",
    "                       'recall': round(recall,4), 'F1-score': round(f1_score,4), 'TP':tp, 'FP':fp, 'FN':fn, 'TN':tn}\n",
    "        result_list.append(result_dict)\n",
    "        #print(\"----------------모델: \", model, \"----------------\")\n",
    "        #print(\"threshold :\", round(threshold,4))\n",
    "        #print(result_dict)\n",
    "        if max_f1 <= f1_score:\n",
    "            max_f1 = f1_score\n",
    "            opt_threshold = threshold\n",
    "            confMat = confusion_matrix(y_test, pred_yn, labels = [1,0])\n",
    "        else:\n",
    "            break\n",
    "    print(\"---------------- 모델: \", name, \"----------------\")\n",
    "    print(\"최고 f1-score = %f, 임계치 = %f\" %(round(max_f1,4), round(opt_threshold,4)))\n",
    "    print(confMat[0], confMat[1]) # [TP FN] [FP TN]\n",
    "    print(\"Precision     :\", round(precision_score(y_test, np.where(model_predict_proba > opt_threshold, 1., 0.)),4))\n",
    "    print(\"Recall        :\", round(recall_score(y_test, np.where(model_predict_proba > opt_threshold, 1., 0.)),4))\n",
    "    print(\"roc_auc_score :\", round(roc_auc_score(y_test, model_predict_proba),4))\n",
    "    print(\"PR score      :\", round(average_precision_score(y_test, model_predict_proba),4))\n",
    "    print()\n",
    "    \n",
    "    result = permutation_importance(model, X_test, y_test, n_repeats=20, random_state=random_state, n_jobs=2)\n",
    "    \n",
    "    # metrics\n",
    "    sorted_importances_idx = result.importances_mean.argsort()\n",
    "    importances = pd.DataFrame(result.importances[sorted_importances_idx].T, columns=X.columns[sorted_importances_idx])\n",
    "    top_importances = importances.iloc[:,-15:]\n",
    "    ax = top_importances.plot.box(vert=False, whis=10)\n",
    "    ax.set_title(f'Permutation Importances')\n",
    "    ax.axvline(x=0, color=\"k\", linestyle=\"--\")\n",
    "    ax.set_xlabel(\"Decrease in accuracy score\")\n",
    "    ax.figure.tight_layout()\n",
    "    \n",
    "    return model"
   ]
  },
  {
   "cell_type": "markdown",
   "id": "b12830ca",
   "metadata": {},
   "source": [
    "#### 2. With Label Encoding(W/O Oversampling)"
   ]
  },
  {
   "cell_type": "code",
   "execution_count": 64,
   "id": "a6298a30",
   "metadata": {},
   "outputs": [
    {
     "name": "stdout",
     "output_type": "stream",
     "text": [
      "---------------- 모델:  RandomForestClassifier ----------------\n",
      "최고 f1-score = 0.321300, 임계치 = 0.070000\n",
      "[40  8] [161 250]\n",
      "Precision     : 0.199\n",
      "Recall        : 0.8333\n",
      "roc_auc_score : 0.791\n",
      "PR score      : 0.3886\n",
      "\n",
      "최적 파라미터 : {'max_depth': 20, 'min_samples_leaf': 1, 'min_samples_split': 5, 'n_estimators': 100}\n"
     ]
    },
    {
     "data": {
      "image/png": "[encoded data removed]",
      "text/plain": [
       "<Figure size 432x288 with 1 Axes>"
      ]
     },
     "metadata": {
      "needs_background": "light"
     },
     "output_type": "display_data"
    }
   ],
   "source": [
    "from sklearn.preprocessing import LabelEncoder\n",
    "\n",
    "df_rf = df_.copy()\n",
    "\n",
    "le=LabelEncoder()\n",
    "df_rf[obj]=df_rf[obj].apply(le.fit_transform)\n",
    "df_rf[obj]= df_rf[obj].astype('category')\n",
    "\n",
    "\n",
    "X = df_rf.iloc[:,:-3]\n",
    "y= df_rf[\"Target_top10\"]\n",
    "\n",
    "X_arr=np.array(X)\n",
    "y_arr=np.array(y)\n",
    "\n",
    "\n",
    "X_train, X_test, y_train, y_test = train_test_split(X_arr, y_arr, test_size=0.25, stratify=y_arr, random_state=random_state)\n",
    "\n",
    "params = {'n_estimators' : [100,300,500]\n",
    "           ,'min_samples_leaf' : [1,3,5]\n",
    "            ,'max_depth' : [15,20,25]\n",
    "            ,'min_samples_split' : [2,5,8]\n",
    "            }\n",
    "\n",
    "rfc = RandomForestClassifier(random_state = random_state)\n",
    "clf_rfc = GridSearchCV(rfc, params, cv=5, n_jobs=-1, scoring = 'accuracy')\n",
    "clf_rfc = run_model(clf_rfc, X_train, X_test, y_train, y_test, type(rfc).__name__)\n",
    "\n",
    "print(\"최적 파라미터 :\", clf_rfc.best_params_)"
   ]
  },
  {
   "cell_type": "markdown",
   "id": "c98fd299",
   "metadata": {},
   "source": [
    "#### 3. With Label Encoding and Oversampling"
   ]
  },
  {
   "cell_type": "code",
   "execution_count": 65,
   "id": "05e13626",
   "metadata": {},
   "outputs": [],
   "source": [
    "smote = SMOTE(random_state=random_state)\n",
    "\n",
    "X_train_res, y_train_res = smote.fit_resample(X_train, y_train)"
   ]
  },
  {
   "cell_type": "code",
   "execution_count": 66,
   "id": "1be23c47",
   "metadata": {},
   "outputs": [
    {
     "name": "stdout",
     "output_type": "stream",
     "text": [
      "---------------- 모델:  RandomForestClassifier ----------------\n",
      "최고 f1-score = 0.341700, 임계치 = 0.150000\n",
      "[34 14] [117 294]\n",
      "Precision     : 0.2252\n",
      "Recall        : 0.7083\n",
      "roc_auc_score : 0.7631\n",
      "PR score      : 0.3668\n",
      "\n",
      "최적 파라미터 : {'max_depth': 20, 'min_samples_leaf': 1, 'min_samples_split': 2, 'n_estimators': 500}\n"
     ]
    },
    {
     "data": {
      "image/png": "[encoded data removed]",
      "text/plain": [
       "<Figure size 432x288 with 1 Axes>"
      ]
     },
     "metadata": {
      "needs_background": "light"
     },
     "output_type": "display_data"
    }
   ],
   "source": [
    "rfc = RandomForestClassifier(random_state = random_state)\n",
    "clf_rfc_re = GridSearchCV(rfc, params, cv=5, n_jobs=-1, scoring = 'accuracy')\n",
    "clf_rfc_re = run_model(clf_rfc_re, X_train_res, X_test, y_train_res, y_test, type(rfc).__name__)\n",
    "\n",
    "print(\"최적 파라미터 :\", clf_rfc_re.best_params_)"
   ]
  },
  {
   "cell_type": "markdown",
   "id": "32d5bfcc",
   "metadata": {},
   "source": [
    "# 3.3 LGBM"
   ]
  },
  {
   "cell_type": "code",
   "execution_count": 67,
   "id": "58679c5e",
   "metadata": {},
   "outputs": [],
   "source": [
    "from lightgbm import LGBMClassifier, LGBMRegressor"
   ]
  },
  {
   "cell_type": "markdown",
   "id": "d37cea3c",
   "metadata": {},
   "source": [
    "#### 1. Without Label Encoding"
   ]
  },
  {
   "cell_type": "code",
   "execution_count": 68,
   "id": "ed682ac4",
   "metadata": {},
   "outputs": [
    {
     "name": "stdout",
     "output_type": "stream",
     "text": [
      "---------------- 모델:  LGBMClassifier ----------------\n",
      "최고 f1-score = 0.373500, 임계치 = 0.080000\n",
      "[31 17] [ 87 324]\n",
      "Precision     : 0.2627\n",
      "Recall        : 0.6458\n",
      "roc_auc_score : 0.7771\n",
      "PR score      : 0.3446\n",
      "\n",
      "최적 파라미터 : {'learning_rate': 0.05, 'max_depth': 7, 'num_leaves': 63}\n"
     ]
    },
    {
     "data": {
      "image/png": "[encoded data removed]",
      "text/plain": [
       "<Figure size 432x288 with 1 Axes>"
      ]
     },
     "metadata": {
      "needs_background": "light"
     },
     "output_type": "display_data"
    }
   ],
   "source": [
    "df_lg = df_.copy()\n",
    "df_lg[obj]= df_lg[obj].astype('category')\n",
    "\n",
    "X_no_encoding = df_lg.iloc[:,:-3]\n",
    "y_no_encoding= df_lg[\"Target_top10\"]\n",
    "\n",
    "\n",
    "# label encoding 미적용\n",
    "X_train, X_test, y_train, y_test = train_test_split(X_no_encoding, y_no_encoding, test_size=0.25, stratify=y_no_encoding, random_state=random_state)\n",
    "params = {'num_leaves' : [31,63,127,255]\n",
    "         #,'min_child_samples' : [5,10,15]\n",
    "         ,'max_depth' : [5,6,7,8]\n",
    "         ,'learning_rate' : [0.01, 0.25, 0.05, 1]\n",
    "         #,'reg_alpha' : [0, 0.01, 0.03]\n",
    "         }\n",
    "lgbm = LGBMClassifier(random_state = random_state)\n",
    "clf_lg = GridSearchCV(lgbm, params, cv=5, n_jobs=-1, scoring = 'accuracy')\n",
    "clf_lg = run_model(clf_lg, X_train, X_test, y_train, y_test, type(lgbm).__name__)\n",
    "print(\"최적 파라미터 :\", clf_lg.best_params_)"
   ]
  },
  {
   "cell_type": "markdown",
   "id": "2f213d95",
   "metadata": {},
   "source": [
    "#### 2. With Label Encoding"
   ]
  },
  {
   "cell_type": "code",
   "execution_count": 69,
   "id": "99d02fc0",
   "metadata": {},
   "outputs": [
    {
     "name": "stdout",
     "output_type": "stream",
     "text": [
      "---------------- 모델:  LGBMClassifier ----------------\n",
      "최고 f1-score = 0.375000, 임계치 = 0.090000\n",
      "[33 15] [ 95 316]\n",
      "Precision     : 0.2578\n",
      "Recall        : 0.6875\n",
      "roc_auc_score : 0.7844\n",
      "PR score      : 0.3162\n",
      "\n",
      "최적 파라미터 : {'learning_rate': 0.05, 'max_depth': 5, 'num_leaves': 31}\n"
     ]
    },
    {
     "data": {
      "image/png": "[encoded data removed]",
      "text/plain": [
       "<Figure size 432x288 with 1 Axes>"
      ]
     },
     "metadata": {
      "needs_background": "light"
     },
     "output_type": "display_data"
    }
   ],
   "source": [
    "X_train, X_test, y_train, y_test = train_test_split(X_arr, y_arr, test_size=0.25, stratify=y_arr, random_state=random_state)\n",
    "\n",
    "params = {'num_leaves' : [31,63,127,255]\n",
    "         #,'min_child_samples' : [5,10,15]\n",
    "         ,'max_depth' : [5,6,7,8]\n",
    "         ,'learning_rate' : [0.01, 0.25, 0.05, 1]\n",
    "         #,'reg_alpha' : [0, 0.01, 0.03]\n",
    "         }\n",
    "\n",
    "lgbm = LGBMClassifier(random_state = random_state)\n",
    "clf_lg_en = GridSearchCV(lgbm, params, cv=5, n_jobs=-1, scoring = 'accuracy')\n",
    "clf_lg_en = run_model(clf_lg_en, X_train, X_test, y_train, y_test, type(lgbm).__name__)\n",
    "\n",
    "print(\"최적 파라미터 :\", clf_lg_en.best_params_)"
   ]
  },
  {
   "cell_type": "markdown",
   "id": "9e19b55b",
   "metadata": {},
   "source": [
    "#### 3. Label Encoding + OverSampling"
   ]
  },
  {
   "cell_type": "code",
   "execution_count": 70,
   "id": "a57c0778",
   "metadata": {},
   "outputs": [
    {
     "name": "stdout",
     "output_type": "stream",
     "text": [
      "---------------- 모델:  LGBMClassifier ----------------\n",
      "최고 f1-score = 0.330800, 임계치 = 0.030000\n",
      "[22 26] [ 63 348]\n",
      "Precision     : 0.2588\n",
      "Recall        : 0.4583\n",
      "roc_auc_score : 0.7599\n",
      "PR score      : 0.3706\n",
      "\n",
      "최적 파라미터 : {'learning_rate': 0.25, 'max_depth': 6, 'num_leaves': 63}\n"
     ]
    },
    {
     "data": {
      "image/png": "[encoded data removed]",
      "text/plain": [
       "<Figure size 432x288 with 1 Axes>"
      ]
     },
     "metadata": {
      "needs_background": "light"
     },
     "output_type": "display_data"
    }
   ],
   "source": [
    "# label encoding 적용 → smote oversampling 수행\n",
    "\n",
    "lgbm = LGBMClassifier(random_state = random_state)\n",
    "clf_lg_re = GridSearchCV(lgbm, params, cv=5, n_jobs=-1, scoring = 'accuracy')\n",
    "clf_lg_re = run_model(clf_lg_re, X_train_res, X_test, y_train_res, y_test, type(lgbm).__name__)\n",
    "\n",
    "print(\"최적 파라미터 :\", clf_lg_re.best_params_)"
   ]
  },
  {
   "cell_type": "markdown",
   "id": "f8741356",
   "metadata": {},
   "source": [
    "# 4. T80예측"
   ]
  },
  {
   "cell_type": "markdown",
   "id": "c7fcf823",
   "metadata": {},
   "source": [
    "## 4.1 데이터 전처리"
   ]
  },
  {
   "cell_type": "code",
   "execution_count": 71,
   "id": "ab3d9b82",
   "metadata": {},
   "outputs": [
    {
     "name": "stdout",
     "output_type": "stream",
     "text": [
      "(40609, 60)\n"
     ]
    }
   ],
   "source": [
    "df = pd.read_csv(\"./Perovskite_database_content_all_data.csv\")\n",
    "df_pred = df.loc[df[\"Stability_PCE_T80\"].isnull()][valid_col]\n",
    "df_pred.reset_index(inplace=True, drop=True)\n",
    "\n",
    "print(df_pred.shape)"
   ]
  },
  {
   "cell_type": "code",
   "execution_count": 72,
   "id": "bd392bfa",
   "metadata": {},
   "outputs": [
    {
     "name": "stdout",
     "output_type": "stream",
     "text": [
      "(40609, 60)\n"
     ]
    }
   ],
   "source": [
    "# del df_processed\n",
    "\n",
    "col_delimiter = ['Perovskite_deposition_thermal_annealing_time']\n",
    "\n",
    "for col in col_delimiter:\n",
    "    df_pred[col] = [str(i).replace('; ', ' >> ').replace('|', ' >> ')  for i in df_pred[col]]\n",
    "    df_pred[col] = df_pred[col].replace('Unknown', np.nan)\n",
    "    df_pred[col] = [np.median([float(j) for j in i.split(' >> ') if 'Unknown' not in j]) if type(i)==str else float(i) for i in df_pred[col]]\n",
    "    df_pred[col].fillna(value=df_pred[col].median(), inplace=True)\n",
    "\n",
    "print(df_pred.shape)"
   ]
  },
  {
   "cell_type": "code",
   "execution_count": 73,
   "id": "be5fca78",
   "metadata": {},
   "outputs": [
    {
     "name": "stdout",
     "output_type": "stream",
     "text": [
      "(40609, 60)\n"
     ]
    }
   ],
   "source": [
    "layer_list = ['Perovskite_dimension_list_of_layers']\n",
    "\n",
    "for i in layer_list:\n",
    "    mode = df_pred[i].mode().values[0]\n",
    "    df_pred[i].fillna(mode, inplace=True) \n",
    "    df_pred[i] = df_pred[i].apply(lambda x: x[:3] if '|' in str(x) else x)\n",
    "    df_pred[i] = df_pred[i].astype(float)\n",
    "\n",
    "print(df_pred.shape)\n",
    "\n",
    "# print(df_pred['Perovskite_dimension_list_of_layers'].tolist())"
   ]
  },
  {
   "cell_type": "code",
   "execution_count": 74,
   "id": "108066f5",
   "metadata": {},
   "outputs": [
    {
     "name": "stdout",
     "output_type": "stream",
     "text": [
      "(40609, 60)\n"
     ]
    }
   ],
   "source": [
    "thickness_list = ['Backcontact_thickness_list', 'HTL_thickness_list', 'ETL_thickness', 'Perovskite_thickness']\n",
    "\n",
    "for col in thickness_list:\n",
    "    df_pred[col] = df_pred[col].replace('uknnown', np.nan).replace('True', np.nan).replace('unkown', np.nan)      \n",
    "    df_pred[col] = [i if '-' not in str(i) else np.mean([float(j) for j in str(i).split('-')]) for i in df_pred[col]]\n",
    "    df_pred[col] = [sum([float(j) if not np.isnan(float(j)) else 0 for j in i.split('|')]) if type(i)==str else float(i) for i in df_pred[col]]\n",
    "    df_pred[col].fillna(value=df_pred[col].median(), inplace=True)\n",
    "    \n",
    "print(df_pred.shape)\n",
    "# print(df_pred['Backcontact_thickness_list'].tolist())"
   ]
  },
  {
   "cell_type": "code",
   "execution_count": 75,
   "id": "cb3a2b2e",
   "metadata": {},
   "outputs": [
    {
     "name": "stdout",
     "output_type": "stream",
     "text": [
      "(40609, 60)\n"
     ]
    }
   ],
   "source": [
    "# Top n개 유지\n",
    "\n",
    "for col in unique_dict.keys():\n",
    "    df_pred[col] = [i if i in unique_dict[col] else 'etc' for i in df_pred[col]]\n",
    "    \n",
    "print(df_pred.shape)"
   ]
  },
  {
   "cell_type": "code",
   "execution_count": 76,
   "id": "3e890cde",
   "metadata": {},
   "outputs": [
    {
     "name": "stdout",
     "output_type": "stream",
     "text": [
      "(40609, 60)\n"
     ]
    }
   ],
   "source": [
    "# 재분류 수행\n",
    "\n",
    "# Stability_potential_bias_load_condition: 재분류(Open circuit인것과 아닌것)\n",
    "df_pred.loc[df_pred[\"Stability_potential_bias_load_condition\"] != \"Open circuit\", \"Stability_potential_bias_load_condition\"] = \"not Open circuit\"\n",
    "\n",
    "\n",
    "# HTL_stack_sequence : 재분류(spiro-MeOTAD 포함된 것 / 포함 안된것)\n",
    "df_pred.loc[~df_pred[\"HTL_stack_sequence\"].str.contains(\"Spiro-MeOTAD\", case=True, regex=False), \"HTL_stack_sequence\"] = \"no-Spiro-MeOTAD\"\n",
    "df_pred.loc[df_pred[\"HTL_stack_sequence\"] != \"no-Spiro-MeOTAD\", \"HTL_stack_sequence\"] = \"Spiro-MeOTAD\"\n",
    "\n",
    "# Perovskite_additives_compounds : 재분류(Unknown/ Undoped(도핑안한것) /(도핑한것))\n",
    "df_pred[\"Perovskite_additives_compounds\"].fillna(\"Unknown\", inplace=True)\n",
    "df_pred.loc[(df_pred[\"Perovskite_additives_compounds\"] != \"Unknown\") & (df_pred[\"Perovskite_additives_compounds\"] != \"Undoped\"), \"Perovskite_additives_compounds\"] = \"Doped\"\n",
    "\n",
    "print(df_pred.shape)"
   ]
  },
  {
   "cell_type": "code",
   "execution_count": 77,
   "id": "ba10ee8b",
   "metadata": {},
   "outputs": [
    {
     "name": "stdout",
     "output_type": "stream",
     "text": [
      "['Perovskite_composition_a_ions', 'Perovskite_composition_a_ions_coefficients', 'Perovskite_composition_b_ions', 'Perovskite_composition_b_ions_coefficients', 'Perovskite_composition_c_ions', 'Perovskite_composition_c_ions_coefficients']\n"
     ]
    },
    {
     "name": "stderr",
     "output_type": "stream",
     "text": [
      "100%|█████████████████████████████████████████████████████████████████████████████████████████████████████████████████████████████████████████████████████████████████████████████| 3/3 [02:26<00:00, 48.97s/it]\n"
     ]
    }
   ],
   "source": [
    "print(ion_cols)\n",
    "from tqdm import tqdm\n",
    "\n",
    "df_work = df_pred.copy()[ion_cols]\n",
    "\n",
    "\n",
    "ion_map_dfs = []\n",
    "for ion in tqdm(ions_list):\n",
    "    df_temp = []\n",
    "    for j in ion:\n",
    "        df_temp.append(deep_auto_split(df_work, j))\n",
    "    ion_map_dfs.append(create_mapped_df(*df_temp).add_prefix(ion[0].split('_')[2]+\"_ion_\"))\n",
    "\n",
    "df_ion_map_ = pd.concat(ion_map_dfs, axis=1)\n"
   ]
  },
  {
   "cell_type": "code",
   "execution_count": 78,
   "id": "dff3e624",
   "metadata": {},
   "outputs": [
    {
     "name": "stdout",
     "output_type": "stream",
     "text": [
      "(40609, 179)\n"
     ]
    }
   ],
   "source": [
    "# df_ion_map__ = df_ion_map_.apply(lambda x: float(x[0].replace(',', ''))\n",
    "df_ion_map_ = df_ion_map_.replace(r'^\\s*$', np.nan, regex=True)\n",
    "df_ion_map_ = df_ion_map_.fillna(0).replace(r'x', 0, regex=True).astype('float64') #there are 'x's for some reason\n",
    "\n",
    "print(df_ion_map_.shape)"
   ]
  },
  {
   "cell_type": "code",
   "execution_count": 79,
   "id": "25ac9a0a",
   "metadata": {},
   "outputs": [
    {
     "name": "stdout",
     "output_type": "stream",
     "text": [
      "(40609, 179)\n",
      "(40609, 47)\n"
     ]
    }
   ],
   "source": [
    "print(df_ion_map_.shape)\n",
    "df_ion_map_ = df_ion_map_[[i for i in ion_map_col if i in df_ion_map_.columns]]\n",
    "\n",
    "\n",
    "for i in ['a_ion_(EU-pyP)', 'a_ion_(BYA)', 'a_ion_BE', 'a_ion_PMA', 'a_ion_Aa']:\n",
    "    if i not in df_ion_map_.columns:\n",
    "        df_ion_map_[i] = 0\n",
    "\n",
    "        \n",
    "df_ion_map_ = df_ion_map_[ion_map_col]\n",
    "print(df_ion_map_.shape)"
   ]
  },
  {
   "cell_type": "code",
   "execution_count": 80,
   "id": "8901e8ae",
   "metadata": {},
   "outputs": [
    {
     "name": "stdout",
     "output_type": "stream",
     "text": [
      "(40609, 101)\n"
     ]
    }
   ],
   "source": [
    "try:\n",
    "    df_pred = df_pred.drop(columns=ion_cols, axis=1)\n",
    "except KeyError:\n",
    "    pass\n",
    "else:\n",
    "    df_pred = pd.concat([df_pred, df_ion_map_], axis=1)\n",
    "\n",
    "print(df_pred.shape)"
   ]
  },
  {
   "cell_type": "code",
   "execution_count": 81,
   "id": "f90aa931",
   "metadata": {},
   "outputs": [
    {
     "name": "stdout",
     "output_type": "stream",
     "text": [
      "(40609, 101)\n"
     ]
    }
   ],
   "source": [
    "numeric_with_nan = ['Perovskite_band_gap', 'Perovskite_pl_max', 'Cell_area_measured', 'JV_scan_speed', 'JV_reverse_scan_Voc', \n",
    "                    'JV_reverse_scan_Jsc', 'JV_reverse_scan_FF', 'JV_hysteresis_index', 'Stability_PCE_initial_value']\n",
    "\n",
    "for i in numeric_with_nan:\n",
    "\n",
    "    df_pred[i] = [str(i).replace('; ', '|') for i in df_pred[i]]\n",
    "    df_pred[i] = [sum([float(j) for j in str(i).split('|')]) for i in df_pred[i]]\n",
    "    df_pred[i] = df_pred[i].astype(float)\n",
    "    df_pred[i].fillna(value=df_pred[i].median(), inplace=True)\n",
    "\n",
    "print(df_pred.shape)"
   ]
  },
  {
   "cell_type": "code",
   "execution_count": 82,
   "id": "9a68acc0",
   "metadata": {},
   "outputs": [
    {
     "name": "stdout",
     "output_type": "stream",
     "text": [
      "(40609, 90)\n"
     ]
    }
   ],
   "source": [
    "delete_list = ['Perovskite_composition_long_form', \n",
    "               'Stability_time_total_exposure', \n",
    "               'Stability_PCE_end_of_experiment',\n",
    "               'Stability_light_intensity',\n",
    "               'Stability_relative_humidity_average_value',\n",
    "               'Stability_protocol',\n",
    "               'Stability_light_source_type',\n",
    "               'Stability_PCE_burn_in_observed', \n",
    "               'EQE_measured', \n",
    "               'Stability_PCE_initial_value',\n",
    "               'Stability_PCE_T80']\n",
    "for i in delete_list:\n",
    "    try:\n",
    "        df_pred = df_pred.drop(columns=i, axis=1)\n",
    "    except KeyError:\n",
    "        continue\n",
    "\n",
    "\n",
    "print(df_pred.shape)"
   ]
  },
  {
   "cell_type": "markdown",
   "id": "3aaea9be",
   "metadata": {},
   "source": [
    "## 4.2 LGBM & RF 모델 활용한 T80 예측"
   ]
  },
  {
   "cell_type": "code",
   "execution_count": 83,
   "id": "15eb875a",
   "metadata": {},
   "outputs": [
    {
     "name": "stdout",
     "output_type": "stream",
     "text": [
      "0.0    40070\n",
      "1.0      539\n",
      "Name: model_predict_RandomForest, dtype: int64\n",
      "0.0    39677\n",
      "1.0      932\n",
      "Name: model_predict_lgbm, dtype: int64\n"
     ]
    }
   ],
   "source": [
    "df_pred_ = df_pred.copy()\n",
    "df_pred_results = df_pred.copy()\n",
    "\n",
    "obj=[]\n",
    "for i in df_pred_.columns:\n",
    "    if df_pred[i].dtypes == \"object\":\n",
    "        obj.append(i)\n",
    "\n",
    "le=LabelEncoder()\n",
    "df_pred_[obj]=df_pred_[obj].apply(le.fit_transform)\n",
    "df_pred_[obj]= df_pred_[obj].astype('category')\n",
    "\n",
    "\n",
    "model_ = clf_rfc # rfc_model, lgbm_model\n",
    "model_predict = model_.predict(df_pred_)\n",
    "model_predict_proba = model_.predict_proba(df_pred_)[:,1]\n",
    "df_pred_results['model_predict_RandomForest'] = model_predict\n",
    "df_pred_results['model_predict_proba_RandomForest'] = model_predict_proba\n",
    "\n",
    "model_ = clf_lg_en # rfc_model, lgbm_model\n",
    "model_predict = model_.predict(df_pred_)\n",
    "model_predict_proba = model_.predict_proba(df_pred_)[:,1]\n",
    "df_pred_results['model_predict_lgbm'] = model_predict\n",
    "df_pred_results['model_predict_proba_lgbm'] = model_predict_proba\n",
    "\n",
    "print(df_pred_results['model_predict_RandomForest'].value_counts())\n",
    "print(df_pred_results['model_predict_lgbm'].value_counts())"
   ]
  },
  {
   "cell_type": "code",
   "execution_count": 84,
   "id": "ffb8e5e5",
   "metadata": {},
   "outputs": [],
   "source": [
    "file_name = \"processed_pred_v3.csv\"\n",
    "\n",
    "df_pred_results.to_csv(file_name, index=False)\n",
    "os.startfile(file_name)"
   ]
  },
  {
   "cell_type": "code",
   "execution_count": null,
   "id": "11db32d2",
   "metadata": {},
   "outputs": [],
   "source": []
  }
 ],
 "metadata": {
  "kernelspec": {
   "display_name": "Python 3 (ipykernel)",
   "language": "python",
   "name": "python3"
  },
  "language_info": {
   "codemirror_mode": {
    "name": "ipython",
    "version": 3
   },
   "file_extension": ".py",
   "mimetype": "text/x-python",
   "name": "python",
   "nbconvert_exporter": "python",
   "pygments_lexer": "ipython3",
   "version": "3.9.7"
  }
 },
 "nbformat": 4,
 "nbformat_minor": 5
}
